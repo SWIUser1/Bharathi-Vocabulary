{
 "cells": [
  {
   "cell_type": "code",
   "execution_count": 1,
   "metadata": {},
   "outputs": [],
   "source": [
    "import pandas as pd\n",
    "import numpy as np\n",
    "import rdflib\n",
    "from rdflib.namespace import RDF\n",
    "from rdflib import Namespace\n",
    "from rdflib import URIRef, Literal"
   ]
  },
  {
   "cell_type": "code",
   "execution_count": 2,
   "metadata": {},
   "outputs": [
    {
     "name": "stdout",
     "output_type": "stream",
     "text": [
      "11807\n"
     ]
    }
   ],
   "source": [
    "global g3\n",
    "g3=rdflib.Graph()\n",
    "g3.parse('C:/Users/SESA456791/Desktop/Ontology-Bh/Files/Outputs/Graph_IndependentDept_3.nt',format='nt')\n",
    "print(len(g3))"
   ]
  },
  {
   "cell_type": "code",
   "execution_count": 3,
   "metadata": {},
   "outputs": [],
   "source": [
    "#************Change Path to files************\n",
    "ministry_data=pd.read_csv(\"C:/Users/SESA456791/Desktop/Ontology-Bh/Files/ministry_new_working.csv\", header=None) \n",
    "ministry_data=ministry_data.replace(np.nan,\"\",regex=True)"
   ]
  },
  {
   "cell_type": "code",
   "execution_count": 4,
   "metadata": {},
   "outputs": [],
   "source": [
    "ministry_data.columns=['Cat1','Cat2','Org1','Cat3','Cat4_Org2','Cat5_Org3','Org4']"
   ]
  },
  {
   "cell_type": "code",
   "execution_count": 5,
   "metadata": {},
   "outputs": [],
   "source": [
    "#Function:Changing plural to singular\n",
    "def change_cat(col_nam,df):\n",
    "    singular_plural_data=pd.read_csv(\"C:/Users/SESA456791/Desktop/Ontology-Bh/Files/Singular_Plural.csv\") \n",
    "    for i in range(singular_plural_data.shape[0]):\n",
    "        val=singular_plural_data.iloc[i,0]\n",
    "        new_val=singular_plural_data.iloc[i,1]\n",
    "        df.loc[(df[col_nam]).apply(lambda x: x.strip())==val,col_nam]=new_val\n",
    "    return(df)"
   ]
  },
  {
   "cell_type": "code",
   "execution_count": 6,
   "metadata": {},
   "outputs": [],
   "source": [
    "#Function Call:Changing plural to singular\n",
    "ministry_data=change_cat('Cat1',ministry_data)\n",
    "ministry_data=change_cat('Cat2',ministry_data)\n",
    "ministry_data=change_cat('Cat3',ministry_data)\n",
    "ministry_data=change_cat('Cat4_Org2',ministry_data)\n",
    "ministry_data=change_cat('Cat5_Org3',ministry_data)"
   ]
  },
  {
   "cell_type": "code",
   "execution_count": 7,
   "metadata": {},
   "outputs": [],
   "source": [
    "global org\n",
    "global bhorg\n",
    "global skos\n",
    "global bhcatres\n",
    "global bhorgres\n",
    "\n",
    "org=Namespace(\"http://www.w3.org/ns/org#\")\n",
    "bhorg=Namespace(\"http://semanticwebindia.in/bharathi/ont/org/\")\n",
    "skos=Namespace(\"http://www.w3.org/2004/02/skos/core#\")\n",
    "bhcatres=Namespace(\"http://semanticwebindia.in/bharathi/res/cat/\")\n",
    "bhorgres=Namespace(\"http://semanticwebindia.in/bharathi/res/org/\")"
   ]
  },
  {
   "cell_type": "code",
   "execution_count": 8,
   "metadata": {},
   "outputs": [],
   "source": [
    "pd.set_option('display.max_colwidth', 500)#housekeeping"
   ]
  },
  {
   "cell_type": "code",
   "execution_count": 9,
   "metadata": {},
   "outputs": [],
   "source": [
    "#finding n_org max\n",
    "global n_org\n",
    "org_list=[]\n",
    "for s,p,o in g3.triples((None, RDF.type, bhorg.Organisation)):\n",
    "    str_s_uri=str(s)\n",
    "    pos=str_s_uri.rfind('/')\n",
    "    num=int(str_s_uri[pos+1:len(str_s_uri)])\n",
    "    num_s=str(num)\n",
    "    num_s=num_s[1:]\n",
    "    num_i=int(num_s)\n",
    "    org_list.append(num_i) #list of n_org identifier values\n",
    "org_list.sort() #sorting the list\n",
    "n_org=org_list[-1] #the current maximum value of n_org\n",
    "\n",
    "#No need to find n_cat max, just one skos:category- topGOT\n",
    "global n_cat\n",
    "n_cat=0\n",
    "cat_list=[]\n",
    "for s,p,o in g3.triples((None, skos.prefLabel, None)):\n",
    "    str_s_uri=str(s)\n",
    "    pos=str_s_uri.rfind('/')\n",
    "    if str_s_uri[pos+1:len(str_s_uri)]!='topOT':\n",
    "        num=int(str_s_uri[pos+1:len(str_s_uri)])\n",
    "        num_s=str(num)\n",
    "        num_s=num_s[1:]\n",
    "        num_i=int(num_s)\n",
    "        cat_list.append(num_i) #list of n_org identifier values\n",
    "cat_list.sort() #sorting the list\n",
    "n_cat=cat_list[-1] #the current maximum value of n_org"
   ]
  },
  {
   "cell_type": "code",
   "execution_count": 10,
   "metadata": {},
   "outputs": [
    {
     "name": "stdout",
     "output_type": "stream",
     "text": [
      "1477\n",
      "15\n"
     ]
    }
   ],
   "source": [
    "print(n_org)\n",
    "print(n_cat)"
   ]
  },
  {
   "cell_type": "code",
   "execution_count": 11,
   "metadata": {},
   "outputs": [],
   "source": [
    "# #Clean org1/org2 and return list\n",
    "# def org_scrub(org_n):\n",
    "#     org_str_raw=org_n\n",
    "#     org_str_raw=org_str_raw.replace('\"','\\'')\n",
    "#     org_str_raw=org_str_raw.replace(\"' '\",\"','\")\n",
    "#     org_str_raw=org_str_raw.replace(\"[\",\"\")\n",
    "#     org_str_raw=org_str_raw.replace(\"]\",\"\")\n",
    "#     org_str_raw=org_str_raw.replace(\"'\",\"\")\n",
    "#     org_str_raw=org_str_raw.strip()\n",
    "#     l=org_str_raw.split(',')\n",
    "#     l_scrub=[] #Cleaned list of \n",
    "#     if len(l)>0:\n",
    "#         for x in l:\n",
    "#             x.strip()\n",
    "#             if x=='':\n",
    "#                 continue\n",
    "#             else:\n",
    "#                 x=x.replace(\"'\",\"\")\n",
    "#                 l_scrub.append(x)\n",
    "#     return(l_scrub)\n"
   ]
  },
  {
   "cell_type": "code",
   "execution_count": 12,
   "metadata": {},
   "outputs": [],
   "source": [
    "def org_scrub(org_n):\n",
    "    l_scrub=[]\n",
    "    val=org_n\n",
    "    val=str(val)\n",
    "    val=val.replace('[',\"\")\n",
    "    val=val.replace(']',\"\")\n",
    "    if len(val)==0:\n",
    "        return(l_scrub)\n",
    "    #print(val)\n",
    "    pos_url=val.find('http')\n",
    "    #print(pos_url)\n",
    "    if pos_url!=-1:\n",
    "        val_1=val[:pos_url]+'|'+val[pos_url:]\n",
    "        pos_end_url=val_1[pos_url+1:].find(\"'\")\n",
    "        val_2=val_1[:pos_url+1+pos_end_url]+'|'+val_1[pos_url+1+pos_end_url:]\n",
    "    else:\n",
    "        sch_ch=val[0]\n",
    "        pos_end=val[1:].find(sch_ch)\n",
    "        #print(val[:pos_end+2])\n",
    "        val_2=val[:pos_end+2]+\"|\"+val[pos_end+2:]\n",
    "        #print(val_2)\n",
    "    org_ls=val_2.split('|')\n",
    "    \n",
    "    for i in range(len(org_ls)):\n",
    "        ele=org_ls[i]\n",
    "        ele_ls=list(ele)\n",
    "        clean_c=1\n",
    "        while clean_c>0 and len(ele_ls)>0:\n",
    "            if ele_ls[0] in [\"'\",'\"',',',' '] and len(ele_ls)>0:\n",
    "                ele_ls.pop(0)\n",
    "                #print(ele_ls)\n",
    "            if len(ele_ls)>0:\n",
    "                if ele_ls[0] in [\"'\",'\"',',',' ']:\n",
    "                    clean_c=1\n",
    "                else:\n",
    "                    clean_c=0\n",
    "            else:\n",
    "                clean_c=0\n",
    "        clean_c=1\n",
    "        while clean_c>0 and len(ele_ls)>0:\n",
    "            if ele_ls[-1] in [\"'\",'\"',',',' ']:\n",
    "                ele_ls.pop(-1)\n",
    "            if len(ele_ls)>0:\n",
    "                if ele_ls[-1] in [\"'\",'\"',',',' ']:\n",
    "                    clean_c=1\n",
    "                else:\n",
    "                    clean_c=0\n",
    "            else:\n",
    "                clean_c=0\n",
    "        ele_j=''.join(ele_ls)\n",
    "        l_scrub.append(ele_j)\n",
    "    return(l_scrub)"
   ]
  },
  {
   "cell_type": "code",
   "execution_count": 13,
   "metadata": {},
   "outputs": [],
   "source": [
    "#create fetch function for cat_id\n",
    "def fetch_n_cat(cat):\n",
    "    global n_cat\n",
    "    global g3\n",
    "    cat_id=\"\"\n",
    "    for s,p,o in g3.triples((None, skos.prefLabel,Literal(cat))):\n",
    "        cat_id=s\n",
    "    if cat_id==\"\":\n",
    "        bhcatres=\"http://semanticwebindia.in/bharathi/res/cat/\"\n",
    "        n_cat+=1\n",
    "        cat_id=URIRef(bhcatres+str('2')+str(n_cat))\n",
    "        #adding relevant triples\n",
    "#         g3.add((cat_id,skos.broader, URIRef(bhcatres+'topOT')))\n",
    "#         g3.add((URIRef(bhcatres+'topOT'),skos.broaderOf,cat_id))\n",
    "        g3.add((cat_id,RDF.type,skos.Concept))\n",
    "        g3.add((cat_id,skos.prefLabel, Literal(cat)))\n",
    "        g3.add((cat_id,skos.altLabel, Literal(cat)))\n",
    "        g3.add((cat_id,skos.inScheme,URIRef(bhcatres+'OrganisationType')))\n",
    "    return(cat_id)\n",
    "\n",
    "#create fetch function for org_id\n",
    "def fetch_n_org(org_nam,org_url=\"\",org_abb=\"\"):\n",
    "    global g3\n",
    "    global n_org\n",
    "    org_id=\"\"\n",
    "    for s,p,o in g3.triples((None, bhorg.hasName,Literal(org_nam))):\n",
    "        org_id=s\n",
    "    if org_id==\"\":\n",
    "        bhorgres=\"http://semanticwebindia.in/bharathi/res/org/\"\n",
    "        n_org+=1\n",
    "        org_id=URIRef(bhorgres+str('1')+str(n_org))\n",
    "        g3.add((org_id, bhorg.hasName, Literal(org_nam)))\n",
    "        g3.add((org_id, bhorg.hasAlternateName, Literal(org_nam)))\n",
    "        \n",
    "        if org_url!=\"\":\n",
    "            g3.add((org_id, bhorg.hasURL, Literal(org_url)))\n",
    "        if org_abb!=\"\":\n",
    "            g3.add((org_id, bhorg.hasAbbreviation, Literal(org_abb)))\n",
    "        g3.add((org_id,RDF.type,bhorg.Organisation))\n",
    "        g3.add((org_id,org.identifier,Literal(n_org)))\n",
    "        g3.add((org_id,org.hasOrganizationType,URIRef(bhcatres+str('21')))) #skos(Government) :bhcatres/21\n",
    "    return(org_id)"
   ]
  },
  {
   "cell_type": "code",
   "execution_count": 14,
   "metadata": {},
   "outputs": [],
   "source": [
    "#create fetch_cat_broader for broader relation\n",
    "def fetch_cat_broader(cat1_id,cat2_id):\n",
    "    global g3\n",
    "    if not (cat2_id, skos.broader,cat1_id) in g3:\n",
    "        g3.add((cat2_id, skos.broader,cat1_id))\n",
    "    if not (cat1_id, skos.broaderOf,cat2_id) in g3:\n",
    "        g3.add((cat1_id, skos.broaderOf,cat2_id))\n",
    "        \n",
    "#create fetch_org_subOrg for sub-organization relation\n",
    "def fetch_org_subOrg(org1_id,org2_id):\n",
    "    global g3\n",
    "    if not (org1_id,org.hasSubOrganization,org2_id) in g3:\n",
    "        g3.add((org1_id,org.hasSubOrganization,org2_id))\n",
    "    if not (org2_id,org.subOrganizationOf,org1_id) in g3:\n",
    "        g3.add((org2_id,org.subOrganizationOf,org1_id))"
   ]
  },
  {
   "cell_type": "code",
   "execution_count": 15,
   "metadata": {},
   "outputs": [],
   "source": [
    "#Iteration over ministry_data rows\n",
    "for i in range(ministry_data.shape[0]):\n",
    "#     print(i)\n",
    "    #['Cat1','Cat2','Org1','Cat3','Cat4_Org2','Cat5_Org3','Org4']\n",
    "    cat1=ministry_data.iloc[i,0].strip()\n",
    "    cat2=ministry_data.iloc[i,1].strip()\n",
    "    org1=ministry_data.iloc[i,2]\n",
    "    cat3=ministry_data.iloc[i,3].strip() #may be blank\n",
    "    cat4_org2=ministry_data.iloc[i,4]#may be blank\n",
    "    cat5_org3=ministry_data.iloc[i,5]\n",
    "    org4=ministry_data.iloc[i,6]\n",
    "    \n",
    "    cat1_id=\"\"\n",
    "    cat2_id=\"\"\n",
    "    cat3_id=\"\"\n",
    "    cat4_id=\"\"\n",
    "    cat5_id=\"\"\n",
    "    org1_id=\"\"\n",
    "    org2_id=\"\"\n",
    "    org3_id=\"\"\n",
    "    org4_id=\"\"\n",
    "    \n",
    "    #check if cat1_id already exists, else create\n",
    "    cat1_id=fetch_n_cat(cat1)\n",
    "    \n",
    "    #check if ((cat1 broader cat21)), ((cat21 broaderOf cat1)) exist, else create\n",
    "    cat_govt=URIRef(bhcatres+'21')\n",
    "    fetch_cat_broader(cat_govt,cat1_id)\n",
    "\n",
    "    #check if cat2_id already exists, else create\n",
    "    cat2_id=fetch_n_cat(cat2)\n",
    "    \n",
    "    #check if ((cat2 broader cat1)), ((cat1 broaderOf cat2)) exist, else create\n",
    "    fetch_cat_broader(cat1_id,cat2_id)#*****************CHECK/CHANGE THIS*****************#\n",
    "        \n",
    "    #check if cat3_id already exists, else create\n",
    "    ##processing cat3- removing'[]'\n",
    "    cat3=cat3.replace('[',\"\")\n",
    "    cat3=cat3.replace(']',\"\")\n",
    "    if cat3==\"\":\n",
    "        cat3_id=cat2_id\n",
    "    else:\n",
    "        cat3_id=fetch_n_cat(cat3)\n",
    "        #check if ((cat2 broader cat3)), ((cat2 broaderOf cat3)) exist, else create\n",
    "        fetch_cat_broader(cat2_id,cat3_id)#*****************CHECK/CHANGE THIS*****************#\n",
    "    \n",
    "    #check if org1_id already exists, else create\n",
    "    ##clean and return list\n",
    "#     org1_ls=org_scrub(org1)\n",
    "#     org_nam=\"\"\n",
    "#     org_url=\"\"\n",
    "#     org_abb=\"\"\n",
    "#     print(org1_ls)\n",
    "#     if len(org1_ls)==1:\n",
    "#         org_nam=org1_ls[0]\n",
    "# #     elif len(org1_ls)==2:\n",
    "# #         org_nam=org1_ls[0]\n",
    "# #         org_url=org1_ls[1]\n",
    "#     elif len(org1_ls)==2:\n",
    "#         org_nam=org1_ls[0]\n",
    "#         if org1_ls[1].find('http')>-1:\n",
    "#             org_url=org1_ls[1]\n",
    "#         else:\n",
    "#             org_abb=org1_ls[1]\n",
    "#     else:\n",
    "#         org_nam=org1_ls[0]\n",
    "#         org_url=org1_ls[1]\n",
    "#         org_abb=org1_ls[2]\n",
    "#     print(org_nam,\" \",org_url,\" \",org_url)\n",
    "    \n",
    "    org1=org1.replace('[',\"\")\n",
    "    org1=org1.replace(']',\"\")\n",
    "    org1=org1.replace('\\'',\"\")\n",
    "        \n",
    "    org_nam=org1\n",
    "    \n",
    "    org1_id=fetch_n_org(org_nam)\n",
    "    \n",
    "    #create tuple org1, org:classification, cat2_id\n",
    "    g3.add((org1_id,org.classification,cat2_id)) \n",
    "    \n",
    "    #create tuples for cat4_org2\n",
    "    if cat4_org2==\"\":\n",
    "        #cat4_id=\"\"\n",
    "        cat4_id=cat3_id #only needed for broader relation- check if can be removed\n",
    "        #org2_id=\"\"\n",
    "        org2_id=org1_id #only needed for sub-org relation- check if can be removed   \n",
    "    elif cat4_org2[0]=='[':\n",
    "        #create org2 tuples\n",
    "        org2_ls=org_scrub(cat4_org2)\n",
    "        org_nam=\"\"\n",
    "        org_url=\"\"\n",
    "        org_abb=\"\"\n",
    "        if (len(org2_ls))>0: \n",
    "            if len(org2_ls)==1:\n",
    "                org_nam=org2_ls[0]\n",
    "#             elif len(org2_ls)==2:\n",
    "#                 org_nam=org2_ls[0]\n",
    "#                 org_url=org2_ls[1]\n",
    "            elif len(org2_ls)==2:\n",
    "                org_nam=org2_ls[0]\n",
    "                if org2_ls[1].find('http')>0:\n",
    "                    org_url=org2_ls[1]\n",
    "                else:\n",
    "                    org_abb=org2_ls[1]\n",
    "            else:\n",
    "                org_nam=org2_ls[0]\n",
    "                org_url=org2_ls[1]\n",
    "                org_abb=org2_ls[2]\n",
    "            org2_id=fetch_n_org(org_nam,org_url,org_abb)\n",
    "        #create tuple org2, org:classificatoin, cat2_id\n",
    "            g3.add((org2_id,org.classification,cat3_id))\n",
    "        #create tuples for org1-->subOrg-->org2\n",
    "            fetch_org_subOrg(org1_id,org2_id)\n",
    "        #As cat4_id=\"\"\n",
    "        cat4_id=cat3_id\n",
    "\n",
    "    else:\n",
    "        #create cat4 tuples\n",
    "        cat4_org2=cat4_org2.strip()\n",
    "        cat4_id=fetch_n_cat(cat4_org2)\n",
    "        #check if ((cat4 broader cat3)), ((cat3 broaderOf cat4)) exist, else create\n",
    "        fetch_cat_broader(cat3_id,cat4_id)\n",
    "        org2_id=org1_id\n",
    "    #cat5_org3\n",
    "    #create tuples for cat5_org3\n",
    "    if cat5_org3==\"\":\n",
    "        #chekc if really needed**************************\n",
    "        cat5_id=cat4_id\n",
    "        org3_id=org2_id\n",
    "    elif cat5_org3[0]=='[':\n",
    "        #create org2 tuples\n",
    "        org3_ls=org_scrub(cat5_org3)\n",
    "        org_nam=\"\"\n",
    "        org_url=\"\"\n",
    "        org_abb=\"\"\n",
    "        \n",
    "        if (len(org3_ls))>0: \n",
    "            if len(org3_ls)==1:\n",
    "                org_nam=org3_ls[0]\n",
    "#             elif len(org3_ls)==2:\n",
    "#                 org_nam=org3_ls[0]\n",
    "#                 org_url=org3_ls[1]\n",
    "            elif len(org3_ls)==2:\n",
    "                org_nam=org3_ls[0]\n",
    "                if org3_ls[1].find('http')>0:\n",
    "                    org_url=org3_ls[1]\n",
    "                else:\n",
    "                    org_abb=org3_ls[1]\n",
    "            else:\n",
    "                org_nam=org3_ls[0]\n",
    "                org_url=org3_ls[1]\n",
    "                org_abb=org3_ls[2]\n",
    "            org3_id=fetch_n_org(org_nam,org_url,org_abb)\n",
    "            #create tuple org2, org:classificatoin, cat2_id\n",
    "            g3.add((org3_id,org.classification,cat4_id))\n",
    "            #create tuples for org2-->subOrg-->org3\n",
    "            fetch_org_subOrg(org2_id,org3_id)\n",
    "        cat5_id=cat4_id\n",
    "    else:\n",
    "        #create cat5 tuples\n",
    "        cat5_org3=cat5_org3.strip()\n",
    "        cat5_id=fetch_n_cat(cat5_org3)\n",
    "        #check if ((cat5 broader cat4)), ((cat4 broaderOf cat5)) exist, else create\n",
    "        fetch_cat_broader(cat4_id,cat5_id)\n",
    "        org3_id=org2_id\n",
    "    #Create tuples for org_4    \n",
    "    org4=org4.replace('[',\"\")\n",
    "    org4=org4.replace(']',\"\")\n",
    "    \n",
    "    if org4!=\"\":\n",
    "        org4_ls=org_scrub(org4)\n",
    "        org_nam=\"\"\n",
    "        org_url=\"\"\n",
    "        org_abb=\"\"\n",
    "        if len(org4_ls)==1:\n",
    "            org_nam=org4_ls[0]\n",
    "#         elif len(org4_ls)==2:\n",
    "#             org_nam=org4_ls[0]\n",
    "#             org_url=org4_ls[1]\n",
    "        elif len(org4_ls)==2:\n",
    "            org_nam=org4_ls[0]\n",
    "            if org4_ls[1].find('http')>0:\n",
    "                org_url=org4_ls[1]\n",
    "            else:\n",
    "                org_abb=org4_ls[1]\n",
    "        else:\n",
    "            org_nam=org4_ls[0]\n",
    "            org_url=org4_ls[1]\n",
    "            org_abb=org4_ls[2]\n",
    "        org4_id=fetch_n_org(org_nam,org_url,org_abb)\n",
    "        #create tuple org4, org:classificatoin, cat5_id\n",
    "        g3.add((org4_id,org.classification,cat5_id))\n",
    "        #create tuples for org3-->subOrg-->org4\n",
    "        fetch_org_subOrg(org3_id,org4_id)\n",
    "        "
   ]
  },
  {
   "cell_type": "code",
   "execution_count": 16,
   "metadata": {},
   "outputs": [
    {
     "name": "stdout",
     "output_type": "stream",
     "text": [
      "38871\n"
     ]
    }
   ],
   "source": [
    "print(len(g3))"
   ]
  },
  {
   "cell_type": "code",
   "execution_count": 17,
   "metadata": {},
   "outputs": [],
   "source": [
    "#print(i)"
   ]
  },
  {
   "cell_type": "code",
   "execution_count": 18,
   "metadata": {},
   "outputs": [],
   "source": [
    "g3.serialize(format='nt', destination='C:/Users/SESA456791/Desktop/Ontology-Bh/Files/Outputs/Graph_ministry_4.nt')"
   ]
  },
  {
   "cell_type": "code",
   "execution_count": 19,
   "metadata": {},
   "outputs": [
    {
     "name": "stdout",
     "output_type": "stream",
     "text": [
      "http://semanticwebindia.in/bharathi/res/org/12265 http://semanticwebindia.in/bharathi/ont/org/hasName SMDPII - VLSI: Special Manpower Development Programme in the area of VLSI Design\n"
     ]
    }
   ],
   "source": [
    "#Testing\n",
    "for s,p,o in g3.triples((None, bhorg.hasName,Literal(\"SMDPII - VLSI: Special Manpower Development Programme in the area of VLSI Design\"))):\n",
    "    print(s,p,o)"
   ]
  },
  {
   "cell_type": "code",
   "execution_count": 20,
   "metadata": {},
   "outputs": [
    {
     "name": "stdout",
     "output_type": "stream",
     "text": [
      "http://semanticwebindia.in/bharathi/res/org/11477 http://www.w3.org/1999/02/22-rdf-syntax-ns#type http://semanticwebindia.in/bharathi/ont/org/Organisation\n",
      "http://semanticwebindia.in/bharathi/res/org/11477 http://semanticwebindia.in/bharathi/ont/org/hasAbbreviation ISAC\n",
      "http://semanticwebindia.in/bharathi/res/org/11477 http://semanticwebindia.in/bharathi/ont/org/hasName ISRO Satellite Centre(ISAC) Bengaluru\n",
      "http://semanticwebindia.in/bharathi/res/org/11477 http://semanticwebindia.in/bharathi/ont/org/hasURL http://www.isac.gov.in\n",
      "http://semanticwebindia.in/bharathi/res/org/11477 http://semanticwebindia.in/bharathi/ont/org/hasAlternateName ISRO Satellite Centre(ISAC) Bengaluru\n",
      "http://semanticwebindia.in/bharathi/res/org/11477 http://www.w3.org/ns/org#subOrganizationOf http://semanticwebindia.in/bharathi/res/org/11461\n",
      "http://semanticwebindia.in/bharathi/res/org/11477 http://www.w3.org/ns/org#classification http://semanticwebindia.in/bharathi/res/cat/213\n",
      "http://semanticwebindia.in/bharathi/res/org/11477 http://www.w3.org/ns/org#identifier 1477\n",
      "http://semanticwebindia.in/bharathi/res/org/11477 http://www.w3.org/ns/org#hasOrganizationType http://semanticwebindia.in/bharathi/res/cat/21\n"
     ]
    }
   ],
   "source": [
    "u=URIRef(\"http://semanticwebindia.in/bharathi/res/org/11477\")\n",
    "for s,p,o in g3.triples((u,None,None)):\n",
    "    print(s,p,o)"
   ]
  },
  {
   "cell_type": "code",
   "execution_count": 21,
   "metadata": {},
   "outputs": [
    {
     "name": "stdout",
     "output_type": "stream",
     "text": [
      "http://semanticwebindia.in/bharathi/res/org/121 http://semanticwebindia.in/bharathi/ont/org/hasAlternateName Ministry of Civil Aviation\n",
      "http://semanticwebindia.in/bharathi/res/org/121 http://semanticwebindia.in/bharathi/ont/org/hasName Ministry of Civil Aviation\n"
     ]
    }
   ],
   "source": [
    "for s,p,o in g3.triples((None,None,Literal(\"Ministry of Civil Aviation\"))):\n",
    "    print(s,p,o)"
   ]
  },
  {
   "cell_type": "code",
   "execution_count": 22,
   "metadata": {},
   "outputs": [],
   "source": [
    "val=(ministry_data.iloc[306,2]).replace('[',\"\")\n",
    "val=val.replace(']',\"\")"
   ]
  },
  {
   "cell_type": "code",
   "execution_count": 23,
   "metadata": {},
   "outputs": [
    {
     "name": "stdout",
     "output_type": "stream",
     "text": [
      "'Ministry of Coal'\n"
     ]
    }
   ],
   "source": [
    "print(val)"
   ]
  },
  {
   "cell_type": "code",
   "execution_count": null,
   "metadata": {},
   "outputs": [],
   "source": []
  }
 ],
 "metadata": {
  "kernelspec": {
   "display_name": "Python 3",
   "language": "python",
   "name": "python3"
  },
  "language_info": {
   "codemirror_mode": {
    "name": "ipython",
    "version": 3
   },
   "file_extension": ".py",
   "mimetype": "text/x-python",
   "name": "python",
   "nbconvert_exporter": "python",
   "pygments_lexer": "ipython3",
   "version": "3.7.3"
  }
 },
 "nbformat": 4,
 "nbformat_minor": 2
}
