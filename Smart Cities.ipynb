{
 "cells": [
  {
   "cell_type": "code",
   "execution_count": 1,
   "metadata": {},
   "outputs": [],
   "source": [
    "import pandas as pd\n",
    "import numpy as np\n",
    "import rdflib\n",
    "from rdflib.namespace import RDF\n",
    "from rdflib import Namespace\n",
    "from rdflib import URIRef, Literal"
   ]
  },
  {
   "cell_type": "code",
   "execution_count": 2,
   "metadata": {},
   "outputs": [
    {
     "name": "stdout",
     "output_type": "stream",
     "text": [
      "101775\n"
     ]
    }
   ],
   "source": [
    "global g6\n",
    "g6=rdflib.Graph()\n",
    "g6.parse('C:/Users/SESA456791/Desktop/Ontology-Bh/Files/Outputs/Graph_Legislature_6.nt',format='nt')\n",
    "print(len(g6))"
   ]
  },
  {
   "cell_type": "code",
   "execution_count": 3,
   "metadata": {},
   "outputs": [
    {
     "data": {
      "text/html": [
       "<div>\n",
       "<style scoped>\n",
       "    .dataframe tbody tr th:only-of-type {\n",
       "        vertical-align: middle;\n",
       "    }\n",
       "\n",
       "    .dataframe tbody tr th {\n",
       "        vertical-align: top;\n",
       "    }\n",
       "\n",
       "    .dataframe thead th {\n",
       "        text-align: right;\n",
       "    }\n",
       "</style>\n",
       "<table border=\"1\" class=\"dataframe\">\n",
       "  <thead>\n",
       "    <tr style=\"text-align: right;\">\n",
       "      <th></th>\n",
       "      <th>Names of selected cities</th>\n",
       "      <th>Name of State/UT</th>\n",
       "    </tr>\n",
       "  </thead>\n",
       "  <tbody>\n",
       "    <tr>\n",
       "      <th>0</th>\n",
       "      <td>Port Blair</td>\n",
       "      <td>Andaman and Nicobar Island</td>\n",
       "    </tr>\n",
       "    <tr>\n",
       "      <th>1</th>\n",
       "      <td>Vishakhapatnam</td>\n",
       "      <td>Andhra Pradesh</td>\n",
       "    </tr>\n",
       "    <tr>\n",
       "      <th>2</th>\n",
       "      <td>Tirupati</td>\n",
       "      <td>Andhra Pradesh</td>\n",
       "    </tr>\n",
       "    <tr>\n",
       "      <th>3</th>\n",
       "      <td>Kakinada</td>\n",
       "      <td>Andhra Pradesh</td>\n",
       "    </tr>\n",
       "    <tr>\n",
       "      <th>4</th>\n",
       "      <td>Pasighat</td>\n",
       "      <td>Arunachal Pradesh</td>\n",
       "    </tr>\n",
       "  </tbody>\n",
       "</table>\n",
       "</div>"
      ],
      "text/plain": [
       "  Names of selected cities            Name of State/UT\n",
       "0               Port Blair  Andaman and Nicobar Island\n",
       "1           Vishakhapatnam              Andhra Pradesh\n",
       "2                 Tirupati              Andhra Pradesh\n",
       "3                 Kakinada              Andhra Pradesh\n",
       "4                 Pasighat           Arunachal Pradesh"
      ]
     },
     "execution_count": 3,
     "metadata": {},
     "output_type": "execute_result"
    }
   ],
   "source": [
    "#************Change Path to files************\n",
    "smart_cities_data=pd.read_csv(\"C:/Users/SESA456791/Desktop/Ontology-Bh/Files/Smart_Cities.csv\") \n",
    "smart_cities_data=smart_cities_data.replace(np.nan,\"\",regex=True)\n",
    "smart_cities_data.head(5)"
   ]
  },
  {
   "cell_type": "code",
   "execution_count": 4,
   "metadata": {},
   "outputs": [],
   "source": [
    "global org\n",
    "global bhorg\n",
    "global skos\n",
    "global bhcatres\n",
    "global bhorgres\n",
    "global bhorg\n",
    "\n",
    "org=Namespace(\"http://www.w3.org/ns/org#\")\n",
    "bhorg=Namespace(\"http://semanticwebindia.in/bharathi/ont/org/\")\n",
    "skos=Namespace(\"http://www.w3.org/2004/02/skos/core#\")\n",
    "bhcatres=Namespace(\"http://semanticwebindia.in/bharathi/res/cat/\")\n",
    "bhorgres=Namespace(\"http://semanticwebindia.in/bharathi/res/org/\")\n",
    "bhorg=Namespace(\"http://semanticwebindia.in/bharathi/ont/org/\")"
   ]
  },
  {
   "cell_type": "code",
   "execution_count": 5,
   "metadata": {},
   "outputs": [],
   "source": [
    "pd.set_option('display.max_colwidth', 500)#housekeeping"
   ]
  },
  {
   "cell_type": "code",
   "execution_count": 6,
   "metadata": {},
   "outputs": [],
   "source": [
    "#finding n_org max\n",
    "global n_org\n",
    "l_lit=[]\n",
    "for s,p,o in g6.triples((None, RDF.type, bhorg.Organisation)):\n",
    "    str_s_uri=str(s)\n",
    "    pos=str_s_uri.rfind('/')\n",
    "    num=int(str_s_uri[pos+1:len(str_s_uri)])\n",
    "    num_s=str(num)\n",
    "    num_s=num_s[1:]\n",
    "    num_i=int(num_s)\n",
    "    l_lit.append(num_i) #list of n_org identifier values\n",
    "#print(len(l_lit))\n",
    "l_lit.sort() #sorting the list\n",
    "n_org=l_lit[-1] #the current maximum value of n_org\n",
    "\n",
    "#finding n_cat max, \n",
    "global n_cat\n",
    "n_cat=0\n",
    "cat_list=[]\n",
    "for s,p,o in g6.triples((None, skos.prefLabel, None)):\n",
    "    str_s_uri=str(s)\n",
    "    pos=str_s_uri.rfind('/')\n",
    "    if str_s_uri[pos+1:len(str_s_uri)]!='topOT':\n",
    "        num=int(str_s_uri[pos+1:len(str_s_uri)])\n",
    "        num_s=str(num)\n",
    "        num_s=num_s[1:]\n",
    "        num_i=int(num_s)\n",
    "        cat_list.append(num_i) #list of n_org identifier values\n",
    "cat_list.sort() #sorting the list\n",
    "n_cat=cat_list[-1] #the current maximum value of n_org"
   ]
  },
  {
   "cell_type": "code",
   "execution_count": 7,
   "metadata": {},
   "outputs": [
    {
     "name": "stdout",
     "output_type": "stream",
     "text": [
      "46\n",
      "11004\n"
     ]
    }
   ],
   "source": [
    "print(n_cat)\n",
    "print(n_org)"
   ]
  },
  {
   "cell_type": "code",
   "execution_count": 8,
   "metadata": {},
   "outputs": [],
   "source": [
    "#fetch_n_rg for org1_an\n",
    "def fetch_n_org(org_nam,org_url=\"\",org_abb=\"\"):\n",
    "    global g6\n",
    "    global n_org\n",
    "    org_id=\"\"\n",
    "    for s,p,o in g6.triples((None, bhorg.hasName,Literal(org_nam))):\n",
    "        \n",
    "        org_id=s\n",
    "    if org_id==\"\":\n",
    "        bhorgres=\"http://semanticwebindia.in/bharathi/res/org/\"\n",
    "        n_org+=1\n",
    "        org_id=URIRef(bhorgres+str('1')+str(n_org))\n",
    "        g6.add((org_id, bhorg.hasName, Literal(org_nam)))\n",
    "        g6.add((org_id, bhorg.hasAlternateName, Literal(org_nam)))\n",
    "        if org_url!=\"\":\n",
    "            g6.add((org_id, bhorg.hasURL, Literal(org_url)))\n",
    "        if org_abb!=\"\":\n",
    "            g6.add((org_id, bhorg.hasAbbreviation, Literal(org_abb)))\n",
    "        g6.add((org_id,RDF.type,bhorg.Organisation))\n",
    "        g6.add((org_id,org.identifier,Literal(n_org)))\n",
    "        g6.add((org_id,org.hasOrganizationType,URIRef(bhcatres+str('21')))) #skos(Government) :bhcatres/21\n",
    "    return(org_id)\n",
    "def fetch_n_cat(cat):\n",
    "    global n_cat\n",
    "    global g1\n",
    "    cat_id=\"\"\n",
    "    for s,p,o in g6.triples((None, skos.prefLabel,Literal(cat))):\n",
    "        cat_id=s\n",
    "    if cat_id==\"\":\n",
    "        bhcatres=\"http://semanticwebindia.in/bharathi/res/cat/\"\n",
    "        n_cat+=1\n",
    "        cat_id=URIRef(bhcatres+str('2')+str(n_cat))\n",
    "        #adding relevant triples\n",
    "        g6.add((cat_id,RDF.type,skos.Concept))\n",
    "        g6.add((cat_id,skos.prefLabel, Literal(cat)))\n",
    "        g6.add((cat_id,skos.altLabel, Literal(cat)))\n",
    "        g6.add((cat_id,skos.inScheme,URIRef(bhcatres+'OrganisationType')))\n",
    "    return(cat_id)"
   ]
  },
  {
   "cell_type": "code",
   "execution_count": 9,
   "metadata": {},
   "outputs": [],
   "source": [
    "#create fetch_cat_broader for broader relation\n",
    "def fetch_cat_broader(cat1_id,cat2_id):\n",
    "    global g6\n",
    "    if not (cat2_id, skos.broader,cat1_id) in g6:\n",
    "        g6.add((cat2_id, skos.broader,cat1_id))\n",
    "    if not (cat1_id, skos.broaderOf,cat2_id) in g6:\n",
    "        g6.add((cat1_id, skos.broaderOf,cat2_id))\n",
    "        \n",
    "#create fetch_org_subOrg for sub-organization relation\n",
    "def fetch_org_subOrg(org1_id,org2_id):\n",
    "    global g6\n",
    "    if not (org1_id,org.hasSubOrganization,org2_id) in g6:\n",
    "        g6.add((org1_id,org.hasSubOrganization,org2_id))\n",
    "    if not (org2_id,org.subOrganizationOf,org1_id) in g6:\n",
    "        g6.add((org2_id,org.subOrganizationOf,org1_id))"
   ]
  },
  {
   "cell_type": "code",
   "execution_count": 10,
   "metadata": {},
   "outputs": [],
   "source": [
    "#Creating tuple for \"Smart City\"\n",
    "scity_id=fetch_n_cat(\"Smart City\")\n",
    "#scity broader State & UTs, State, UT\n",
    "state_uts_id=fetch_n_cat(\"State & Union Territory\")\n",
    "fetch_cat_broader(state_uts_id,scity_id)\n",
    "state_id=fetch_n_cat(\"State\")\n",
    "fetch_cat_broader(state_id,scity_id)\n",
    "ut_id=fetch_n_cat(\"Union Territory\")\n",
    "fetch_cat_broader(ut_id,scity_id)\n",
    "nct_id=fetch_n_cat(\"National Capital Territory\")\n",
    "fetch_cat_broader(nct_id,scity_id)"
   ]
  },
  {
   "cell_type": "code",
   "execution_count": 11,
   "metadata": {},
   "outputs": [
    {
     "name": "stdout",
     "output_type": "stream",
     "text": [
      "http://semanticwebindia.in/bharathi/res/cat/225\n",
      "http://semanticwebindia.in/bharathi/res/cat/239\n",
      "http://semanticwebindia.in/bharathi/res/cat/223\n"
     ]
    }
   ],
   "source": [
    "print(ut_id)\n",
    "print(nct_id)\n",
    "print(state_uts_id)"
   ]
  },
  {
   "cell_type": "code",
   "execution_count": 12,
   "metadata": {},
   "outputs": [],
   "source": [
    "#Creating tuples from smart_cities_data\n",
    "for i in range(smart_cities_data.shape[0]):\n",
    "    city_nam=smart_cities_data.iloc[i,0]\n",
    "    state_ut_nam=smart_cities_data.iloc[i,1]\n",
    "    #print(city_nam,state_ut_nam)\n",
    "    rw_scity_id=\"\"\n",
    "    rw_state_ut_id=\"\"\n",
    "    for s,p,o in g6.triples((None,bhorg.hasName,Literal(state_ut_nam))):\n",
    "        for s1,p1,o1 in g6.triples((s,org.classification,None)):\n",
    "            if o1 in [state_id,ut_id,nct_id]:\n",
    "                rw_state_ut_id=s\n",
    "                #print(s,\": \",o)\n",
    "    \n",
    "    for a,b,c in g6.triples((None,bhorg.hasName,Literal(city_nam))):\n",
    "        if (a,org.classification,scity_id) in g6:\n",
    "                rw_scity_id=a\n",
    "                \n",
    "    \n",
    "    if rw_scity_id==\"\":\n",
    "        #print(\"entering if\")\n",
    "        bhorgres=\"http://semanticwebindia.in/bharathi/res/org/\"\n",
    "        n_org+=1\n",
    "        rw_scity_id=URIRef(bhorgres+str('1')+str(n_org))\n",
    "        #print(rw_scity_id)\n",
    "        g6.add((rw_scity_id, bhorg.hasName, Literal(city_nam)))\n",
    "        g6.add((rw_scity_id, bhorg.hasAlternateName, Literal(city_nam)))\n",
    "        g6.add((rw_scity_id,RDF.type,bhorg.Organisation))\n",
    "        g6.add((rw_scity_id,org.identifier,Literal(n_org)))\n",
    "        g6.add((rw_scity_id,org.hasOrganizationType,URIRef(bhcatres+str('21')))) #skos(Government) :bhcatres/21\n",
    "        g6.add((rw_scity_id,org.classification,scity_id))\n",
    "        fetch_org_subOrg(rw_state_ut_id,rw_scity_id)"
   ]
  },
  {
   "cell_type": "code",
   "execution_count": 13,
   "metadata": {},
   "outputs": [
    {
     "data": {
      "text/plain": [
       "102571"
      ]
     },
     "execution_count": 13,
     "metadata": {},
     "output_type": "execute_result"
    }
   ],
   "source": [
    "len(g6)"
   ]
  },
  {
   "cell_type": "code",
   "execution_count": 14,
   "metadata": {},
   "outputs": [
    {
     "name": "stdout",
     "output_type": "stream",
     "text": [
      "http://semanticwebindia.in/bharathi/res/org/14900 http://www.w3.org/ns/org#classification http://semanticwebindia.in/bharathi/res/cat/230\n",
      "http://semanticwebindia.in/bharathi/res/org/111014 http://www.w3.org/ns/org#classification http://semanticwebindia.in/bharathi/res/cat/247\n",
      "http://semanticwebindia.in/bharathi/res/org/14804 http://www.w3.org/ns/org#classification http://semanticwebindia.in/bharathi/res/cat/223\n",
      "http://semanticwebindia.in/bharathi/res/org/14804 http://www.w3.org/ns/org#classification http://semanticwebindia.in/bharathi/res/cat/225\n"
     ]
    }
   ],
   "source": [
    "for s,p,o in g6.triples((None,bhorg.hasName,Literal(\"Chandigarh\"))):\n",
    "    for s1,p1,o1 in g6.triples((s,org.classification,None)):\n",
    "        print(s1,p1,o1)"
   ]
  },
  {
   "cell_type": "code",
   "execution_count": 15,
   "metadata": {},
   "outputs": [
    {
     "name": "stdout",
     "output_type": "stream",
     "text": [
      "http://semanticwebindia.in/bharathi/res/cat/230 http://www.w3.org/2004/02/skos/core#prefLabel District\n"
     ]
    }
   ],
   "source": [
    "u=URIRef(\"http://semanticwebindia.in/bharathi/res/cat/230\")\n",
    "for s,p,o in g6.triples((u,skos.prefLabel,None)):\n",
    "    print(s,p,o)"
   ]
  },
  {
   "cell_type": "code",
   "execution_count": 16,
   "metadata": {},
   "outputs": [],
   "source": [
    "g6.serialize(format='nt', destination='C:/Users/SESA456791/Desktop/Ontology-Bh/Files/Outputs/Graph_SmartCity_7.nt')"
   ]
  },
  {
   "cell_type": "code",
   "execution_count": 17,
   "metadata": {},
   "outputs": [
    {
     "data": {
      "text/plain": [
       "RangeIndex(start=0, stop=98, step=1)"
      ]
     },
     "execution_count": 17,
     "metadata": {},
     "output_type": "execute_result"
    }
   ],
   "source": [
    "smart_cities_data.index"
   ]
  },
  {
   "cell_type": "code",
   "execution_count": 18,
   "metadata": {},
   "outputs": [
    {
     "name": "stdout",
     "output_type": "stream",
     "text": [
      "1 : National Rainfed Area Authority (NRAA)\n",
      "2 : Tod Fod Jod, National Innovation Council\n",
      "3 : National Technical Research Organisation (NTRO)\n",
      "4 : Scientific Advisory Council to the Prime Minister\n",
      "5 : Mann ki Baat by Hon'ble Prime Minister of India\n",
      "6 : Economic Advisory Council to The Prime Minister\n",
      "7 : Direct Benefit Transfer (DBT), MIS - DBT Planning Commission, New Delhi\n",
      "8 : India Innovation Portal (IIP)\n",
      "9 : National Innovation Council\n",
      "10 : National Security Advisory Board (NSAB)\n",
      "11 : National Critical Information Infrastructure Protection Centre (NCIIPC)\n",
      "12 : Prime Minister's National Relief Fund, (PMNRF) - Donate Online\n"
     ]
    }
   ],
   "source": [
    "i=0\n",
    "for s,p,o in g6.triples((None, bhorg.hasName,Literal(\"Prime Minister's Office\"))):\n",
    "    #print(s,p,o)\n",
    "    for s1,p1,o1 in g6.triples((s,org.hasSubOrganization,None)):\n",
    "        for s2,p2,o2 in g6.triples((o1,bhorg.hasName,None)):\n",
    "            i+=1\n",
    "            print(i,\":\",o2)"
   ]
  },
  {
   "cell_type": "code",
   "execution_count": 19,
   "metadata": {},
   "outputs": [
    {
     "name": "stdout",
     "output_type": "stream",
     "text": [
      "http://semanticwebindia.in/bharathi/res/org/14900 http://www.w3.org/ns/org#classification http://semanticwebindia.in/bharathi/res/cat/230\n",
      "http://semanticwebindia.in/bharathi/res/org/111014 http://www.w3.org/ns/org#classification http://semanticwebindia.in/bharathi/res/cat/247\n",
      "http://semanticwebindia.in/bharathi/res/org/14804 http://www.w3.org/ns/org#classification http://semanticwebindia.in/bharathi/res/cat/223\n",
      "http://semanticwebindia.in/bharathi/res/org/14804 http://www.w3.org/ns/org#classification http://semanticwebindia.in/bharathi/res/cat/225\n"
     ]
    }
   ],
   "source": [
    "for s,p,o in g6.triples((None,bhorg.hasName,Literal(\"Chandigarh\"))):\n",
    "    for s1,p1,o1 in g6.triples((s,org.classification,None)):\n",
    "        print(s1,p1,o1)"
   ]
  },
  {
   "cell_type": "code",
   "execution_count": null,
   "metadata": {},
   "outputs": [],
   "source": []
  }
 ],
 "metadata": {
  "kernelspec": {
   "display_name": "Python 3",
   "language": "python",
   "name": "python3"
  },
  "language_info": {
   "codemirror_mode": {
    "name": "ipython",
    "version": 3
   },
   "file_extension": ".py",
   "mimetype": "text/x-python",
   "name": "python",
   "nbconvert_exporter": "python",
   "pygments_lexer": "ipython3",
   "version": "3.7.3"
  }
 },
 "nbformat": 4,
 "nbformat_minor": 2
}
