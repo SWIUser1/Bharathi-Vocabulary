{
 "cells": [
  {
   "cell_type": "code",
   "execution_count": 1,
   "metadata": {},
   "outputs": [],
   "source": [
    "import pandas as pd\n",
    "import numpy as np\n",
    "import rdflib\n",
    "from rdflib.namespace import RDF\n",
    "from rdflib import Namespace\n",
    "from rdflib import URIRef, Literal"
   ]
  },
  {
   "cell_type": "code",
   "execution_count": 2,
   "metadata": {},
   "outputs": [
    {
     "name": "stdout",
     "output_type": "stream",
     "text": [
      "106938\n"
     ]
    }
   ],
   "source": [
    "global g\n",
    "g=rdflib.Graph()\n",
    "g.parse('C:/Users/SESA456791/Desktop/Ontology-Bh/Files/Outputs/Ontology_tuples_v3.24.nt',format='nt')\n",
    "print(len(g))"
   ]
  },
  {
   "cell_type": "code",
   "execution_count": 3,
   "metadata": {},
   "outputs": [
    {
     "data": {
      "text/html": [
       "<div>\n",
       "<style scoped>\n",
       "    .dataframe tbody tr th:only-of-type {\n",
       "        vertical-align: middle;\n",
       "    }\n",
       "\n",
       "    .dataframe tbody tr th {\n",
       "        vertical-align: top;\n",
       "    }\n",
       "\n",
       "    .dataframe thead th {\n",
       "        text-align: right;\n",
       "    }\n",
       "</style>\n",
       "<table border=\"1\" class=\"dataframe\">\n",
       "  <thead>\n",
       "    <tr style=\"text-align: right;\">\n",
       "      <th></th>\n",
       "      <th>Code</th>\n",
       "      <th>State/UT</th>\n",
       "      <th>Alt Name</th>\n",
       "      <th>Cat</th>\n",
       "      <th>Abb</th>\n",
       "    </tr>\n",
       "  </thead>\n",
       "  <tbody>\n",
       "    <tr>\n",
       "      <th>0</th>\n",
       "      <td>IN-AN</td>\n",
       "      <td>Andaman and Nicobar Island</td>\n",
       "      <td></td>\n",
       "      <td>Union territory</td>\n",
       "      <td>AN</td>\n",
       "    </tr>\n",
       "    <tr>\n",
       "      <th>1</th>\n",
       "      <td>IN-AP</td>\n",
       "      <td>Andhra Pradesh</td>\n",
       "      <td></td>\n",
       "      <td>State</td>\n",
       "      <td>AP</td>\n",
       "    </tr>\n",
       "    <tr>\n",
       "      <th>2</th>\n",
       "      <td>IN-AR</td>\n",
       "      <td>Arunachal Pradesh</td>\n",
       "      <td></td>\n",
       "      <td>State</td>\n",
       "      <td>AR</td>\n",
       "    </tr>\n",
       "  </tbody>\n",
       "</table>\n",
       "</div>"
      ],
      "text/plain": [
       "    Code                    State/UT Alt Name              Cat Abb\n",
       "0  IN-AN  Andaman and Nicobar Island           Union territory  AN\n",
       "1  IN-AP              Andhra Pradesh                     State  AP\n",
       "2  IN-AR           Arunachal Pradesh                     State  AR"
      ]
     },
     "execution_count": 3,
     "metadata": {},
     "output_type": "execute_result"
    }
   ],
   "source": [
    "#************Change Path to files************\n",
    "state_abb_data=pd.read_csv(\"C:/Users/SESA456791/Desktop/Ontology-Bh/Files/state_wise_dailydata.csv\") \n",
    "state_abb_data=state_abb_data.replace(np.nan,\"\",regex=True)\n",
    "state_abb_data=state_abb_data.rename(columns={\"Code.1\":\"Abb\"})\n",
    "state_abb_data.head(3)"
   ]
  },
  {
   "cell_type": "code",
   "execution_count": 4,
   "metadata": {},
   "outputs": [
    {
     "data": {
      "text/plain": [
       "(37, 5)"
      ]
     },
     "execution_count": 4,
     "metadata": {},
     "output_type": "execute_result"
    }
   ],
   "source": [
    "state_abb_data.shape"
   ]
  },
  {
   "cell_type": "code",
   "execution_count": 5,
   "metadata": {},
   "outputs": [],
   "source": [
    "global org\n",
    "global bhorg\n",
    "global skos\n",
    "global bhcatres\n",
    "global bhorgres\n",
    "\n",
    "org=Namespace(\"http://www.w3.org/ns/org#\")\n",
    "bhorg=Namespace(\"http://semanticwebindia.in/bharathi/ont/org/\")\n",
    "skos=Namespace(\"http://www.w3.org/2004/02/skos/core#\")\n",
    "bhcatres=Namespace(\"http://semanticwebindia.in/bharathi/res/cat/\")\n",
    "bhorgres=Namespace(\"http://semanticwebindia.in/bharathi/res/org/\")"
   ]
  },
  {
   "cell_type": "code",
   "execution_count": 6,
   "metadata": {},
   "outputs": [],
   "source": [
    "state_abb_dict={state_abb_data.iloc[i,1]:state_abb_data.iloc[i,4] for i in range(state_abb_data.shape[0])}"
   ]
  },
  {
   "cell_type": "code",
   "execution_count": 7,
   "metadata": {},
   "outputs": [],
   "source": [
    "for k,v in state_abb_dict.items():\n",
    "    for s,p,o in g.triples((None,bhorg.hasName,Literal(k))):\n",
    "        for s1,p1,o1 in g.triples((s,org.classification,None)):\n",
    "            if (o1,skos.prefLabel,Literal(\"State & Union Territory\")):\n",
    "                g.add((s,bhorg.hasAbbreviation,Literal(v)))"
   ]
  },
  {
   "cell_type": "code",
   "execution_count": 14,
   "metadata": {},
   "outputs": [
    {
     "name": "stdout",
     "output_type": "stream",
     "text": [
      "Bihar |\n",
      "Manipur |\n",
      "Gujarat |\n",
      "Mizoram |\n",
      "Karnataka |\n",
      "Nagaland |\n",
      "Meghalaya |\n",
      "Telangana |\n",
      "Goa |\n",
      "Chandigarh |\n",
      "Tripura |\n",
      "West Bengal |\n",
      "Kerala |\n",
      "Madhya Pradesh |\n",
      "Maharashtra |\n",
      "Arunachal Pradesh |\n",
      "Chhattisgarh |\n",
      "Tamil Nadu |\n",
      "Delhi |\n",
      "Assam |\n",
      "Lakshadweep |\n",
      "Jharkhand |\n",
      "Odisha |\n",
      "Punjab |\n",
      "Daman and Diu |\n",
      "Rajasthan |\n",
      "Haryana |\n",
      "Andhra Pradesh |\n",
      "Sikkim |\n",
      "Himachal Pradesh |\n",
      "Andaman and Nicobar Island |\n",
      "Uttar Pradesh |\n",
      "Dadra and Nagar Haveli |\n",
      "Uttarakhand |\n",
      "Jammu and Kashmir |\n",
      "Puducherry |\n"
     ]
    }
   ],
   "source": [
    "i=0\n",
    "ls_state_w_abb={}\n",
    "for s,p,o in g.triples((None,bhorg.hasName,None)):\n",
    "    for s1,p1,o1 in g.triples((s,org.classification,None)):\n",
    "        for s2,p2,o2 in g.triples((o1,skos.prefLabel,Literal(\"State & Union Territory\"))):\n",
    "            if (s,bhorg.hasAbbreviation,None) in g:\n",
    "                print(o,'|')\n",
    "            \n",
    "#             for s3,p3,o3 in g.triples((s,bhorg.hasAbbreviation,None)):\n",
    "#                 i+=1\n",
    "#                 ls_state_w_abb.update({o:o3})\n",
    "#                 print(i,o,o3)"
   ]
  },
  {
   "cell_type": "code",
   "execution_count": null,
   "metadata": {},
   "outputs": [],
   "source": [
    "for k in state_abb_dict.keys():\n",
    "    if not k in ls_state_w_abb.keys():\n",
    "        print(k)\n",
    "        \n",
    "        "
   ]
  },
  {
   "cell_type": "code",
   "execution_count": null,
   "metadata": {},
   "outputs": [],
   "source": [
    "# state_ut_dict={}\n",
    "# for s,p,o in g.triples((None,org.classification,None)):\n",
    "#     for s1,p1,o1 in g.triples((o,skos.prefLabel,None)):\n",
    "#         if o1==Literal(\"State & Union Territory\"):\n",
    "#             for s2,p2,o2 in g.triples((s,bhorg.hasName,None)):\n",
    "#                 state_ut_dict.update({str(o2):None})\n",
    "# state_abb_dict={}                 \n",
    "# for i in range(state_abb_data.shape[0]):\n",
    "#     state_abb_dict.update({state_abb_data.iloc[i,1]:state_abb_data.iloc[i,4]})\n",
    "\n",
    "# new_dict= {k1:v  for k,v in state_abb_dict.items() for k1,v1 in state_ut_dict.items()}  \n",
    "\n",
    "# for x,y in new_dict.items():\n",
    "#     print(x,y)"
   ]
  },
  {
   "cell_type": "code",
   "execution_count": null,
   "metadata": {},
   "outputs": [],
   "source": []
  },
  {
   "cell_type": "code",
   "execution_count": null,
   "metadata": {},
   "outputs": [],
   "source": [
    "# for s,p,o in g.triples((None,org.classification,None)):\n",
    "#     for s1,p1,o1 in g.triples((o,skos.prefLabel,None)):\n",
    "#         if o1==Literal(\"State & Union Territory\"):\n",
    "#             for s2,p2,o2 in g.triples((s,bhorg.hasName,None)):\n",
    "#                 for s3,p3,o3 in g.triples((s,bhorg.hasAbbreviation,None)):\n",
    "#                     print(s,s1,s2,s3,o3)\n"
   ]
  },
  {
   "cell_type": "code",
   "execution_count": 9,
   "metadata": {},
   "outputs": [],
   "source": [
    "g.serialize(format='nt', destination='C:/Users/SESA456791/Desktop/Ontology-Bh/Files/Outputs/Graph_state_ut_abb.nt')"
   ]
  },
  {
   "cell_type": "code",
   "execution_count": null,
   "metadata": {},
   "outputs": [],
   "source": []
  }
 ],
 "metadata": {
  "kernelspec": {
   "display_name": "Python 3",
   "language": "python",
   "name": "python3"
  },
  "language_info": {
   "codemirror_mode": {
    "name": "ipython",
    "version": 3
   },
   "file_extension": ".py",
   "mimetype": "text/x-python",
   "name": "python",
   "nbconvert_exporter": "python",
   "pygments_lexer": "ipython3",
   "version": "3.7.3"
  }
 },
 "nbformat": 4,
 "nbformat_minor": 2
}
