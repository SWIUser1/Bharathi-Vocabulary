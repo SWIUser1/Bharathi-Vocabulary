{
 "cells": [
  {
   "cell_type": "code",
   "execution_count": 1,
   "metadata": {},
   "outputs": [],
   "source": [
    "import pandas as pd\n",
    "import rdflib\n",
    "from rdflib.namespace import RDF\n",
    "from rdflib import Namespace\n",
    "from rdflib import URIRef, Literal"
   ]
  },
  {
   "cell_type": "code",
   "execution_count": 2,
   "metadata": {},
   "outputs": [],
   "source": [
    "#!pip install rdflib"
   ]
  },
  {
   "cell_type": "code",
   "execution_count": 3,
   "metadata": {},
   "outputs": [],
   "source": [
    "#Graph declaration\n",
    "g=rdflib.Graph()"
   ]
  },
  {
   "cell_type": "code",
   "execution_count": 4,
   "metadata": {},
   "outputs": [],
   "source": [
    "#************Change Path to files************\n",
    "#main_class=pd.read_csv(\"C:/Users/SESA456791/Desktop/Ontology-Bh/main_class.csv\") \n",
    "meta_list=pd.read_csv(\"C:/Users/SESA456791/Desktop/Ontology-Bh/Files/metaFullList.csv\", usecols=[\"org_type\",\"org\"])"
   ]
  },
  {
   "cell_type": "code",
   "execution_count": 5,
   "metadata": {},
   "outputs": [],
   "source": [
    "#Namespace declarations\n",
    "org=Namespace(\"http://www.w3.org/ns/org#\")\n",
    "skos=Namespace(\"http://www.w3.org/2004/02/skos/core#\")\n",
    "bhorg=Namespace(\"http://semanticwebindia.in/bharathi/ont/org/\")\n",
    "bhorgres=\"http://semanticwebindia.in/bharathi/res/org/\"\n",
    "bhcatres=Namespace(\"http://semanticwebindia.in/bharathi/res/cat/\")"
   ]
  },
  {
   "cell_type": "code",
   "execution_count": 6,
   "metadata": {},
   "outputs": [],
   "source": [
    "#Generation of Concept Scheme and Top Concept\n",
    "##Creating Concept Scheme as OrganisationType\n",
    "g.add((URIRef(bhcatres+'OrganisationType'),RDF.type, skos.ConceptScheme))\n",
    "##Creating topOT as top-concept under conceptScheme:OrganisationType\n",
    "g.add((URIRef(bhcatres+'topOT'), RDF.type, skos.Concept ))\n",
    "g.add((URIRef(bhcatres+'topOT'), skos.prefLabel, Literal('Top Concept for Organisation Type')))\n",
    "g.add((URIRef(bhcatres+'topOT'), skos.altLabel, Literal('Top Concept for Organisation Type')))\n",
    "g.add((URIRef(bhcatres+'topOT'), skos.inScheme,URIRef(bhcatres+'OrganisationType')))\n",
    "g.add((URIRef(bhcatres+'OrganisationType'), skos.hasTopConcept,URIRef(bhcatres+'topOT')))"
   ]
  },
  {
   "cell_type": "code",
   "execution_count": 7,
   "metadata": {},
   "outputs": [],
   "source": [
    "#Creating skos(Government) as broader for topOT\n",
    "n_cat=1\n",
    "concept_id=URIRef(bhcatres+str('2')+str(n_cat))\n",
    "g.add((concept_id,RDF.type,skos.Concept))\n",
    "g.add((concept_id, skos.prefLabel, Literal(\"Government\")))\n",
    "g.add((concept_id, skos.altLabel, Literal(\"Government\")))\n",
    "g.add((concept_id, skos.broader, bhcatres.topOT))\n",
    "g.add((bhcatres.topGOT, skos.broaderOf, concept_id))\n",
    "g.add((concept_id,skos.inScheme,URIRef(bhcatres+'OrganisationType')))"
   ]
  },
  {
   "cell_type": "markdown",
   "metadata": {},
   "source": [
    "## A-Box"
   ]
  },
  {
   "cell_type": "code",
   "execution_count": 8,
   "metadata": {},
   "outputs": [],
   "source": [
    "bhcatres=\"http://semanticwebindia.in/bharathi/res/cat/\"\n",
    "bhorgres=\"http://semanticwebindia.in/bharathi/res/org/\"\n",
    "bhorg=\"http://semanticwebindia.in/bharathi/ont/org/\"\n",
    "\n",
    "#*****************Change path to file metaFullList.csv *****************\n",
    "#meta_list=pd.read_csv(\"C:/Users/SESA456791/Desktop/Ontology-Bh/metaFullList.csv\", usecols=[\"org_type\",\"org\"])\n",
    "#print(meta_list.head())\n",
    "meta_list=meta_list[(meta_list.org_type).str.lower()!=\"city\"]\n",
    "meta_list.dropna(inplace=True)\n",
    "meta_list.reset_index(inplace=True)"
   ]
  },
  {
   "cell_type": "code",
   "execution_count": 9,
   "metadata": {},
   "outputs": [],
   "source": [
    "#Creating triples for A Box\n",
    "global n_org\n",
    "n_org=1\n",
    "\n",
    "org=Namespace(\"http://www.w3.org/ns/org#\")\n",
    "bhorg=Namespace(\"http://semanticwebindia.in/bharathi/ont/org/\")\n",
    "bhcatres=Namespace(\"http://semanticwebindia.in/bharathi/res/cat/\")\n",
    "bhorgres=\"http://semanticwebindia.in/bharathi/res/org/\"\n",
    "skos=Namespace(\"http://www.w3.org/2004/02/skos/core#\")\n",
    "\n",
    "#for i in meta_list.shape(0):\n",
    "rng=meta_list.shape[0]\n",
    "for i in range(rng): \n",
    "    ls=meta_list['org'][i].split(',') #list of all organisations one cell of org_1\n",
    "    for j in range(len(ls)):\n",
    "        #Scrubbing the data clean\n",
    "        org_str_raw=ls[j].replace(\"'\",\"\")\n",
    "        org_str_raw=org_str_raw.replace(\"[\",\"\")\n",
    "        org_str_raw=org_str_raw.replace(\"]\",\"\")\n",
    "        org_str_raw=org_str_raw.strip()\n",
    "        org_str=Literal(org_str_raw) \n",
    "        if (None,None, org_str) not in g:\n",
    "            n_org+=1\n",
    "            n_org_uri=URIRef(bhorgres+str('1')+str(n_org))\n",
    "            g.add((n_org_uri, RDF.type, bhorg.Organisation))\n",
    "            g.add((n_org_uri, org.identifier, Literal(n_org)))\n",
    "            g.add((n_org_uri, bhorg.hasName, org_str))\n",
    "            g.add((n_org_uri, bhorg.hasAlternateName, org_str))\n",
    "            #add government as organisation type\n",
    "            g.add((n_org_uri, org.hasOrganizationType, URIRef(bhcatres+str('2')+str(n_cat))))"
   ]
  },
  {
   "cell_type": "code",
   "execution_count": 10,
   "metadata": {},
   "outputs": [],
   "source": [
    "g.serialize(format='nt', destination='C:/Users/SESA456791/Desktop/Ontology-Bh/Files/Outputs/Graph_metafile.nt')"
   ]
  },
  {
   "cell_type": "code",
   "execution_count": 11,
   "metadata": {},
   "outputs": [
    {
     "name": "stdout",
     "output_type": "stream",
     "text": [
      "582\n"
     ]
    }
   ],
   "source": [
    "print(len(g))"
   ]
  },
  {
   "cell_type": "code",
   "execution_count": null,
   "metadata": {},
   "outputs": [],
   "source": []
  }
 ],
 "metadata": {
  "kernelspec": {
   "display_name": "Python 3",
   "language": "python",
   "name": "python3"
  },
  "language_info": {
   "codemirror_mode": {
    "name": "ipython",
    "version": 3
   },
   "file_extension": ".py",
   "mimetype": "text/x-python",
   "name": "python",
   "nbconvert_exporter": "python",
   "pygments_lexer": "ipython3",
   "version": "3.7.3"
  }
 },
 "nbformat": 4,
 "nbformat_minor": 2
}
