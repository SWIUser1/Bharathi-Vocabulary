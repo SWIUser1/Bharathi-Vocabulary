{
 "cells": [
  {
   "cell_type": "code",
   "execution_count": 1,
   "metadata": {},
   "outputs": [],
   "source": [
    "import pandas as pd\n",
    "import numpy as np\n",
    "import rdflib\n",
    "from rdflib.namespace import RDF\n",
    "from rdflib import Namespace\n",
    "from rdflib import URIRef, Literal"
   ]
  },
  {
   "cell_type": "code",
   "execution_count": 2,
   "metadata": {},
   "outputs": [
    {
     "name": "stdout",
     "output_type": "stream",
     "text": [
      "38871\n"
     ]
    }
   ],
   "source": [
    "global g4\n",
    "g4=rdflib.Graph()\n",
    "g4.parse('C:/Users/SESA456791/Desktop/Ontology-Bh/Files/Outputs/Graph_ministry_4.nt',format='nt')\n",
    "print(len(g4))"
   ]
  },
  {
   "cell_type": "code",
   "execution_count": 3,
   "metadata": {},
   "outputs": [],
   "source": [
    "#************Change Path to files************\n",
    "state_ut_data=pd.read_csv(\"C:/Users/SESA456791/Desktop/Ontology-Bh/Files/state_new.csv\",engine='python') \n",
    "state_ut_data=state_ut_data.replace(np.nan,\"\",regex=True)"
   ]
  },
  {
   "cell_type": "code",
   "execution_count": 4,
   "metadata": {},
   "outputs": [
    {
     "data": {
      "text/html": [
       "<div>\n",
       "<style scoped>\n",
       "    .dataframe tbody tr th:only-of-type {\n",
       "        vertical-align: middle;\n",
       "    }\n",
       "\n",
       "    .dataframe tbody tr th {\n",
       "        vertical-align: top;\n",
       "    }\n",
       "\n",
       "    .dataframe thead th {\n",
       "        text-align: right;\n",
       "    }\n",
       "</style>\n",
       "<table border=\"1\" class=\"dataframe\">\n",
       "  <thead>\n",
       "    <tr style=\"text-align: right;\">\n",
       "      <th></th>\n",
       "      <th>Cat1</th>\n",
       "      <th>Org1</th>\n",
       "      <th>Cat2</th>\n",
       "      <th>Cat3/Org2</th>\n",
       "      <th>Org3</th>\n",
       "    </tr>\n",
       "  </thead>\n",
       "  <tbody>\n",
       "    <tr>\n",
       "      <th>0</th>\n",
       "      <td>State &amp; UTs</td>\n",
       "      <td>['Andaman and Nicobar Island (UT)']</td>\n",
       "      <td>Apex Bodies</td>\n",
       "      <td>[\"Governor's Office(Raj Bhavan) (1)\"]</td>\n",
       "      <td>[\"Lt. Gen. Governor's Office Andaman and Nicob...</td>\n",
       "    </tr>\n",
       "    <tr>\n",
       "      <th>1</th>\n",
       "      <td>State &amp; UTs</td>\n",
       "      <td>['Andaman and Nicobar Island (UT)']</td>\n",
       "      <td>Apex Bodies</td>\n",
       "      <td>['Official Portal of State Government (1)']</td>\n",
       "      <td>['Andaman and Nicobar Administration (UT)' 'ht...</td>\n",
       "    </tr>\n",
       "    <tr>\n",
       "      <th>2</th>\n",
       "      <td>State &amp; UTs</td>\n",
       "      <td>['Andaman and Nicobar Island (UT)']</td>\n",
       "      <td>Apex Bodies</td>\n",
       "      <td>['Online Citizen Services Portal (1)']</td>\n",
       "      <td>['Online Citizen Services Portal Andaman and N...</td>\n",
       "    </tr>\n",
       "    <tr>\n",
       "      <th>3</th>\n",
       "      <td>State &amp; UTs</td>\n",
       "      <td>['Andaman and Nicobar Island (UT)']</td>\n",
       "      <td>Department</td>\n",
       "      <td>['Agriculture Department Andaman &amp; Nicobar']</td>\n",
       "      <td>[]</td>\n",
       "    </tr>\n",
       "    <tr>\n",
       "      <th>4</th>\n",
       "      <td>State &amp; UTs</td>\n",
       "      <td>['Andaman and Nicobar Island (UT)']</td>\n",
       "      <td>Department</td>\n",
       "      <td>['Andaman &amp; Nicobar Tourism']</td>\n",
       "      <td>[]</td>\n",
       "    </tr>\n",
       "  </tbody>\n",
       "</table>\n",
       "</div>"
      ],
      "text/plain": [
       "          Cat1                                 Org1         Cat2  \\\n",
       "0  State & UTs  ['Andaman and Nicobar Island (UT)']  Apex Bodies   \n",
       "1  State & UTs  ['Andaman and Nicobar Island (UT)']  Apex Bodies   \n",
       "2  State & UTs  ['Andaman and Nicobar Island (UT)']  Apex Bodies   \n",
       "3  State & UTs  ['Andaman and Nicobar Island (UT)']   Department   \n",
       "4  State & UTs  ['Andaman and Nicobar Island (UT)']   Department   \n",
       "\n",
       "                                      Cat3/Org2  \\\n",
       "0         [\"Governor's Office(Raj Bhavan) (1)\"]   \n",
       "1   ['Official Portal of State Government (1)']   \n",
       "2        ['Online Citizen Services Portal (1)']   \n",
       "3  ['Agriculture Department Andaman & Nicobar']   \n",
       "4                 ['Andaman & Nicobar Tourism']   \n",
       "\n",
       "                                                Org3  \n",
       "0  [\"Lt. Gen. Governor's Office Andaman and Nicob...  \n",
       "1  ['Andaman and Nicobar Administration (UT)' 'ht...  \n",
       "2  ['Online Citizen Services Portal Andaman and N...  \n",
       "3                                                 []  \n",
       "4                                                 []  "
      ]
     },
     "execution_count": 4,
     "metadata": {},
     "output_type": "execute_result"
    }
   ],
   "source": [
    "state_ut_data.head()"
   ]
  },
  {
   "cell_type": "code",
   "execution_count": 5,
   "metadata": {},
   "outputs": [],
   "source": [
    "state_ut_data.loc[state_ut_data['Cat2']==\"Apex Bodies\",'Cat2']='State Apex Body'\n",
    "state_ut_data.loc[state_ut_data['Cat2']==\"Department\",'Cat2']='State Department'"
   ]
  },
  {
   "cell_type": "code",
   "execution_count": 6,
   "metadata": {},
   "outputs": [],
   "source": [
    "#Function:Changing plural to singular\n",
    "def change_cat(col_nam,df):\n",
    "    singular_plural_data=pd.read_csv(\"C:/Users/SESA456791/Desktop/Ontology-Bh/Files/Singular_Plural.csv\") \n",
    "    for i in range(singular_plural_data.shape[0]):\n",
    "        val=singular_plural_data.iloc[i,0]\n",
    "        new_val=singular_plural_data.iloc[i,1]\n",
    "        df.loc[(df[col_nam]).apply(lambda x: x.strip())==val,col_nam]=new_val\n",
    "    return(df)"
   ]
  },
  {
   "cell_type": "code",
   "execution_count": 7,
   "metadata": {},
   "outputs": [],
   "source": [
    "#Function Call:Changing plural to singular\n",
    "state_ut_data=change_cat('Cat1',state_ut_data)\n",
    "state_ut_data=change_cat('Cat2',state_ut_data)\n",
    "state_ut_data=change_cat('Cat3/Org2',state_ut_data)"
   ]
  },
  {
   "cell_type": "code",
   "execution_count": 8,
   "metadata": {},
   "outputs": [],
   "source": [
    "#Adding column State_UT_NCT and removing info from column 'Org1'\n",
    "def entity(row):\n",
    "    if '(UT)' in row['Org1']:\n",
    "        return('Union Territory')\n",
    "    elif '(NCT)' in row['Org1']:\n",
    "        return('National Capital Territory')\n",
    "    else:\n",
    "        return('State')\n",
    "state_ut_data['state_ut_nct']=state_ut_data.apply(lambda row: entity(row ), axis=1)"
   ]
  },
  {
   "cell_type": "code",
   "execution_count": 9,
   "metadata": {},
   "outputs": [],
   "source": [
    "global org\n",
    "global bhorg\n",
    "global skos\n",
    "global bhcatres\n",
    "global bhorgres\n",
    "\n",
    "org=Namespace(\"http://www.w3.org/ns/org#\")\n",
    "bhorg=Namespace(\"http://semanticwebindia.in/bharathi/ont/org/\")\n",
    "skos=Namespace(\"http://www.w3.org/2004/02/skos/core#\")\n",
    "bhcatres=Namespace(\"http://semanticwebindia.in/bharathi/res/cat/\")\n",
    "bhorgres=Namespace(\"http://semanticwebindia.in/bharathi/res/org/\")"
   ]
  },
  {
   "cell_type": "code",
   "execution_count": 10,
   "metadata": {},
   "outputs": [],
   "source": [
    "pd.set_option('display.max_colwidth', 500)#housekeeping"
   ]
  },
  {
   "cell_type": "code",
   "execution_count": 11,
   "metadata": {},
   "outputs": [],
   "source": [
    "#finding n_org max\n",
    "global n_org\n",
    "org_list=[]\n",
    "for s,p,o in g4.triples((None, RDF.type, bhorg.Organisation)):\n",
    "    str_s_uri=str(s)\n",
    "    pos=str_s_uri.rfind('/')\n",
    "    num=int(str_s_uri[pos+1:len(str_s_uri)])\n",
    "    num_s=str(num)\n",
    "    num_s=num_s[1:]\n",
    "    num_i=int(num_s)\n",
    "    org_list.append(num_i) #list of n_org identifier values\n",
    "org_list.sort() #sorting the list\n",
    "n_org=org_list[-1] #the current maximum value of n_org\n",
    "\n",
    "#No need to find n_cat max, just one skos:category- topGOT\n",
    "global n_cat\n",
    "n_cat=0\n",
    "cat_list=[]\n",
    "for s,p,o in g4.triples((None, skos.prefLabel, None)):\n",
    "    str_s_uri=str(s)\n",
    "    pos=str_s_uri.rfind('/')\n",
    "    if str_s_uri[pos+1:len(str_s_uri)]!='topOT':\n",
    "        num=int(str_s_uri[pos+1:len(str_s_uri)])\n",
    "        num_s=str(num)\n",
    "        num_s=num_s[1:]\n",
    "        num_i=int(num_s)\n",
    "        cat_list.append(num_i) #list of n_org identifier values\n",
    "cat_list.sort() #sorting the list\n",
    "n_cat=cat_list[-1] #the current maximum value of n_org"
   ]
  },
  {
   "cell_type": "code",
   "execution_count": 12,
   "metadata": {},
   "outputs": [
    {
     "name": "stdout",
     "output_type": "stream",
     "text": [
      "4248\n",
      "22\n"
     ]
    }
   ],
   "source": [
    "print(n_org)\n",
    "print(n_cat)"
   ]
  },
  {
   "cell_type": "code",
   "execution_count": 13,
   "metadata": {},
   "outputs": [],
   "source": [
    "# #Clean org1/org2/org3 and return list\n",
    "# def org_scrub(org_n):\n",
    "#     org_n=org_n.replace('[','')\n",
    "#     org_n=org_n.replace(']','')\n",
    "#     ls=list(org_n)\n",
    "#     l_scrub=[]\n",
    "#     i=0\n",
    "#     while(i<len(ls)):\n",
    "#         if ls[i] in [\"\\'\",'\\\"']:\n",
    "#             sch_char=ls[i]\n",
    "#             #l_scrub=[]\n",
    "#             for j in range(i+1,len(ls)):\n",
    "#                 if ls[j]==sch_char:\n",
    "#                     val=ls[i:j+1]\n",
    "#                     val_s=\"\"\n",
    "#                     for x in val:\n",
    "#                         val_s=val_s+x\n",
    "#                     val_s=val_s.replace(sch_char,\"\")\n",
    "#                     val_s=val_s.strip()\n",
    "#                     if val_s!=',':\n",
    "#                         l_scrub.append(val_s)\n",
    "#                     i=j\n",
    "#         i=i+1\n",
    "#     return(l_scrub)"
   ]
  },
  {
   "cell_type": "code",
   "execution_count": 14,
   "metadata": {},
   "outputs": [],
   "source": [
    "def org_scrub(org_n):\n",
    "    l_scrub=[]\n",
    "    val=org_n\n",
    "    val=str(val)\n",
    "    val=val.replace('[',\"\")\n",
    "    val=val.replace(']',\"\")\n",
    "    if len(val)==0:\n",
    "        return(l_scrub)\n",
    "    #print(val)\n",
    "    pos_url=val.find('http')\n",
    "    #print(pos_url)\n",
    "    if pos_url!=-1:\n",
    "        val_1=val[:pos_url]+'|'+val[pos_url:]\n",
    "        pos_end_url=val_1[pos_url+1:].find(\"'\")\n",
    "        val_2=val_1[:pos_url+1+pos_end_url]+'|'+val_1[pos_url+1+pos_end_url:]\n",
    "    else:\n",
    "        sch_ch=val[0]\n",
    "        pos_end=val[1:].find(sch_ch)\n",
    "        #print(val[:pos_end+2])\n",
    "        val_2=val[:pos_end+2]+\"|\"+val[pos_end+2:]\n",
    "        #print(val_2)\n",
    "    org_ls=val_2.split('|')\n",
    "    \n",
    "    for i in range(len(org_ls)):\n",
    "        ele=org_ls[i]\n",
    "        ele_ls=list(ele)\n",
    "        clean_c=1\n",
    "        while clean_c>0 and len(ele_ls)>0:\n",
    "            if ele_ls[0] in [\"'\",'\"',',',' '] and len(ele_ls)>0:\n",
    "                ele_ls.pop(0)\n",
    "                #print(ele_ls)\n",
    "            if len(ele_ls)>0:\n",
    "                if ele_ls[0] in [\"'\",'\"',',',' ']:\n",
    "                    clean_c=1\n",
    "                else:\n",
    "                    clean_c=0\n",
    "            else:\n",
    "                clean_c=0\n",
    "        clean_c=1\n",
    "        while clean_c>0 and len(ele_ls)>0:\n",
    "            if ele_ls[-1] in [\"'\",'\"',',',' ']:\n",
    "                ele_ls.pop(-1)\n",
    "            if len(ele_ls)>0:\n",
    "                if ele_ls[-1] in [\"'\",'\"',',',' ']:\n",
    "                    clean_c=1\n",
    "                else:\n",
    "                    clean_c=0\n",
    "            else:\n",
    "                clean_c=0\n",
    "        ele_j=''.join(ele_ls)\n",
    "        l_scrub.append(ele_j)\n",
    "    return(l_scrub)"
   ]
  },
  {
   "cell_type": "code",
   "execution_count": 15,
   "metadata": {},
   "outputs": [],
   "source": [
    "#create fetch function for cat_id\n",
    "def fetch_n_cat(cat):\n",
    "    global n_cat\n",
    "    global g4\n",
    "    cat_id=\"\"\n",
    "    for s,p,o in g4.triples((None, skos.prefLabel,Literal(cat))):\n",
    "        cat_id=s\n",
    "    if cat_id==\"\":\n",
    "        bhcatres=\"http://semanticwebindia.in/bharathi/res/cat/\"\n",
    "        n_cat+=1\n",
    "        cat_id=URIRef(bhcatres+str('2')+str(n_cat))\n",
    "        #adding relevant triples\n",
    "#         g4.add((cat_id,skos.broader, URIRef(bhcatres+'topOT')))\n",
    "#         g4.add((URIRef(bhcatres+'topOT'),skos.broaderOf,cat_id))\n",
    "        g4.add((cat_id,RDF.type,skos.Concept))\n",
    "        g4.add((cat_id,skos.prefLabel, Literal(cat)))\n",
    "        g4.add((cat_id,skos.altLabel, Literal(cat)))\n",
    "        g4.add((cat_id,skos.inScheme,URIRef(bhcatres+'OrganisationType')))\n",
    "    return(cat_id)\n",
    "\n",
    "#create fetch function for org_id\n",
    "def fetch_n_org(org_nam,org_url=\"\",org_abb=\"\"):\n",
    "    global g4\n",
    "    global n_org\n",
    "    org_id=\"\"\n",
    "    for s,p,o in g4.triples((None, bhorg.hasName,Literal(org_nam))):\n",
    "        org_id=s\n",
    "    if org_id==\"\":\n",
    "        bhorgres=\"http://semanticwebindia.in/bharathi/res/org/\"\n",
    "        n_org+=1\n",
    "        org_id=URIRef(bhorgres+str('1')+str(n_org))\n",
    "        g4.add((org_id, bhorg.hasName, Literal(org_nam)))\n",
    "        g4.add((org_id, bhorg.hasAlternateName, Literal(org_nam)))\n",
    "        if org_url!=\"\":\n",
    "            g4.add((org_id, bhorg.hasURL, Literal(org_url)))\n",
    "        if org_abb!=\"\":\n",
    "            g4.add((org_id, bhorg.hasAbbreviation, Literal(org_abb)))\n",
    "        g4.add((org_id,RDF.type,bhorg.Organisation))\n",
    "        g4.add((org_id,org.identifier,Literal(n_org)))\n",
    "        g4.add((org_id,org.hasOrganizationType,URIRef(bhcatres+str('21')))) #skos(Government) :bhcatres/21\n",
    "    return(org_id)"
   ]
  },
  {
   "cell_type": "code",
   "execution_count": 16,
   "metadata": {},
   "outputs": [],
   "source": [
    "#create fetch function for org_id for cat3_org2\n",
    "def fetch_n_org_cat3_org2(org_nam,org_url=\"\",org_abb=\"\",org1_id=\"\"):\n",
    "    global g4\n",
    "    global n_org\n",
    "    org_id=\"\"\n",
    "    for s,p,o in g4.triples((None, bhorg.hasName,Literal(org_nam))):\n",
    "        if (s,org.subOrganizationOf,org1_id) in g4:\n",
    "            org_id=s\n",
    "        else:\n",
    "            org_id=\"\"\n",
    "    if org_id==\"\":\n",
    "        bhorgres=\"http://semanticwebindia.in/bharathi/res/org/\"\n",
    "        n_org+=1\n",
    "        org_id=URIRef(bhorgres+str('1')+str(n_org))\n",
    "        g4.add((org_id, bhorg.hasName, Literal(org_nam)))\n",
    "        g4.add((org_id, bhorg.hasAlternateName, Literal(org_nam)))\n",
    "        if org_url!=\"\":\n",
    "            g4.add((org_id, bhorg.hasURL, Literal(org_url)))\n",
    "        if org_abb!=\"\":\n",
    "            g4.add((org_id, bhorg.hasAbbreviation, Literal(org_abb)))\n",
    "        g4.add((org_id,RDF.type,bhorg.Organisation))\n",
    "        g4.add((org_id,org.identifier,Literal(n_org)))\n",
    "        g4.add((org_id,org.hasOrganizationType,URIRef(bhcatres+str('21')))) #skos(Government) :bhcatres/21\n",
    "    return(org_id)"
   ]
  },
  {
   "cell_type": "code",
   "execution_count": 17,
   "metadata": {},
   "outputs": [],
   "source": [
    "#fetch_n_rg for org1_an\n",
    "def fetch_an_org1(org_nam,org_url=\"\",org_abb=\"\"):\n",
    "    global g4\n",
    "    global n_org\n",
    "    org_id=\"\"\n",
    "    #fetch cat_id for \"District\"\n",
    "    for a,b,c in g4.triples((None, skos.prefLabel,Literal('District'))):\n",
    "        cat_id_district=a\n",
    "    for s,p,o in g4.triples((None, bhorg.hasName,Literal(org_nam))):\n",
    "        if (s, org.classification, cat_id_district) in g4:\n",
    "            org_id=s\n",
    "    if org_id==\"\":\n",
    "        bhorgres=\"http://semanticwebindia.in/bharathi/res/org/\"\n",
    "        n_org+=1\n",
    "        org_id=URIRef(bhorgres+str('1')+str(n_org))\n",
    "        g4.add((org_id, bhorg.hasName, Literal(org_nam)))\n",
    "        g4.add((org_id, bhorg.hasAlternateName, Literal(org_nam)))\n",
    "        if org_url!=\"\":\n",
    "            g4.add((org_id, bhorg.hasURL, Literal(org_url)))\n",
    "        if org_abb!=\"\":\n",
    "            g4.add((org_id, bhorg.hasAbbreviation, Literal(org_abb)))\n",
    "        g4.add((org_id,RDF.type,bhorg.Organisation))\n",
    "        g4.add((org_id,org.identifier,Literal(n_org)))\n",
    "        g4.add((org_id,org.hasOrganizationType,URIRef(bhcatres+str('21')))) #skos(Government) :bhcatres/21\n",
    "    return(org_id)"
   ]
  },
  {
   "cell_type": "code",
   "execution_count": 18,
   "metadata": {},
   "outputs": [],
   "source": [
    "#create fetch_cat_broader for broader relation\n",
    "def fetch_cat_broader(cat1_id,cat2_id):\n",
    "    global g4\n",
    "    if not (cat2_id, skos.broader,cat1_id) in g4:\n",
    "        g4.add((cat2_id, skos.broader,cat1_id))\n",
    "    if not (cat1_id, skos.broaderOf,cat2_id) in g4:\n",
    "        g4.add((cat1_id, skos.broaderOf,cat2_id))\n",
    "        \n",
    "#create fetch_org_subOrg for sub-organization relation\n",
    "def fetch_org_subOrg(org1_id,org2_id):\n",
    "    global g4\n",
    "    if not (org1_id,org.hasSubOrganization,org2_id) in g4:\n",
    "        g4.add((org1_id,org.hasSubOrganization,org2_id))\n",
    "    if not (org2_id,org.subOrganizationOf,org1_id) in g4:\n",
    "        g4.add((org2_id,org.subOrganizationOf,org1_id))"
   ]
  },
  {
   "cell_type": "code",
   "execution_count": 19,
   "metadata": {},
   "outputs": [],
   "source": [
    "#state_ut_data.shape[0]\n",
    "for i in range(state_ut_data.shape[0]):\n",
    "#Cat1,Org1,Cat2,Cat3/Org2,Org3,State_UT_NCT\n",
    "    cat1=state_ut_data.iloc[i,0]\n",
    "    org1=state_ut_data.iloc[i,1]\n",
    "    cat2=state_ut_data.iloc[i,2]\n",
    "    cat3_org2=state_ut_data.iloc[i,3]\n",
    "    org3=state_ut_data.iloc[i,4]\n",
    "    state_ut_nct=state_ut_data.iloc[i,5]\n",
    "    \n",
    "    #check if cat1_id already exists, else create\n",
    "    cat1_id=fetch_n_cat(cat1)\n",
    "    \n",
    "    #check if ((cat1 broader cat21)), ((cat21 broaderOf cat1)) exist, else create\n",
    "    cat_govt=URIRef(bhcatres+'21')\n",
    "    fetch_cat_broader(cat_govt,cat1_id)\n",
    "    \n",
    "    #check if cat2_id already exists, else create\n",
    "    cat2_id=fetch_n_cat(cat2)\n",
    "    \n",
    "    #check if ((cat2 broader cat1)), ((cat1 broaderOf cat2)) exist, else create\n",
    "    fetch_cat_broader(cat1_id,cat2_id)\n",
    "    \n",
    "    #check if state_ut_nct already exists, else create\n",
    "    state_ut_nct_id=fetch_n_cat(state_ut_nct)\n",
    "    \n",
    "    #check if ((state_ut_nct broader cat1)), ((cat1 broaderOf state_ut_nct)) exist, else create\n",
    "    #check if ((state_ut_nct broader cat2)), ((cat2 broaderOf state_ut_nct)) exist, else create\n",
    "    fetch_cat_broader(cat1_id,state_ut_nct_id)\n",
    "    fetch_cat_broader(state_ut_nct_id,cat2_id)\n",
    "    \n",
    "    #****Creating cat3 tuples***\n",
    "    if cat2 in [\"Board / Undertaking\",\"Attached & Subordinate Office\"]:\n",
    "        cat3_id=fetch_n_cat(cat3_org2)\n",
    "        fetch_cat_broader(cat2_id,cat3_id)\n",
    "        #org2_id=org1_id\n",
    "    elif cat2==\"Local Body\":\n",
    "        ulb_id=fetch_n_cat(\"Urban Local Body\")\n",
    "        rlb_id=fetch_n_cat(\"Rural Local Body\")\n",
    "        fetch_cat_broader(cat2_id,rlb_id)\n",
    "        fetch_cat_broader(cat2_id,ulb_id)\n",
    "        \n",
    "        #add altLabels ULB and RLB\n",
    "        if (ulb_id, skos.altLabel,Literal('ULB')) not in g4:\n",
    "            g4.add((ulb_id,skos.altLabel,Literal('ULB')))\n",
    "        if (rlb_id, skos.altLabel,Literal('RLB')) not in g4:\n",
    "            g4.add((rlb_id,skos.altLabel,Literal('RLB')))\n",
    "        #org2_id=org1_id\n",
    "        if cat3_org2 in [\"Municipal Corporation\",\"Municipality / Council / Board\",\"Town Panchayat\"]:\n",
    "            cat3_id=fetch_n_cat(cat3_org2)\n",
    "            fetch_cat_broader(ulb_id,cat3_id)\n",
    "        elif cat3_org2 == \"Zilla/Taluk/ Village Panchayat\":\n",
    "            cat3_id=fetch_n_cat(cat3_org2)\n",
    "            fetch_cat_broader(rlb_id,cat3_id)   \n",
    "    \n",
    "    #creating triples for org1,org2 and org3\n",
    "    org1=org1.replace(' (UT)',\"\")\n",
    "    org1=org1.replace(' (NCT)',\"\")\n",
    "    cat3_org2=cat3_org2.replace('[\"]',\"\")    \n",
    "    org3=org3.replace('[\"]',\"\")\n",
    "    org3=org3.replace('[]',\"\")\n",
    "    \n",
    "    if cat2== \"District\":\n",
    "        #org1\n",
    "        org1_ls=org_scrub(org1)\n",
    "        org1_id=fetch_n_org(org1_ls[0])\n",
    "        #check and create org1 classification tuples\n",
    "        if (org1_id,org.classification,cat1_id) not in g4:\n",
    "            g4.add((org1_id,org.classification,cat1_id))\n",
    "        if(org1_id,org.classification,state_ut_nct_id) not in g4:\n",
    "            g4.add((org1_id,org.classification,state_ut_nct_id))\n",
    "        #org2\n",
    "        org_nam=\"\"\n",
    "        org_url=\"\"\n",
    "        org_abb=\"\"\n",
    "        if state_ut_nct not in ['Union Territory','National Capital Territory']:\n",
    "            org2_ls=org_scrub(cat3_org2)\n",
    "            if (len(org2_ls))>0: \n",
    "                if len(org2_ls)==1:\n",
    "                    org_nam=org2_ls[0]\n",
    "#                 elif len(org2_ls)==2:\n",
    "#                     org_nam=org2_ls[0]\n",
    "#                     org_url=org2_ls[1]\n",
    "                elif len(org2_ls)==2:\n",
    "                    org_nam=org2_ls[0]\n",
    "                    if org2_ls[1].find('http')>-1:\n",
    "                        org_url=org2_ls[1]\n",
    "                    else:\n",
    "                        org_abb=org2_ls[1]\n",
    "                else:\n",
    "                    org_nam=org2_ls[0]\n",
    "                    org_url=org2_ls[1]\n",
    "                    org_abb=org2_ls[2]\n",
    "                org2_id=fetch_an_org1(org_nam,org_url,org_abb)\n",
    "                g4.add((org2_id,org.classification,cat2_id))\n",
    "                fetch_org_subOrg(org1_id,org2_id)\n",
    "        else: #state_ut_nct in ['Union Territory','National Capital Territory']\n",
    "            org2_ls=org_scrub(cat3_org2)\n",
    "            if (len(org2_ls))>0: \n",
    "                if len(org2_ls)==1:\n",
    "                    org_nam=org2_ls[0]\n",
    "#                 elif len(org2_ls)==2:\n",
    "#                     org_nam=org2_ls[0]\n",
    "#                     org_url=org2_ls[1]\n",
    "                elif len(org2_ls)==2:\n",
    "                    org_nam=org2_ls[0]\n",
    "                    if org2_ls[1].find('http')>-1:\n",
    "                        org_url=org2_ls[1]\n",
    "                    else:\n",
    "                        org_abb=org2_ls[1]\n",
    "                else:\n",
    "                    org_nam=org2_ls[0]\n",
    "                    org_url=org2_ls[1]\n",
    "                    org_abb=org2_ls[2]\n",
    "                org2_id=fetch_an_org1(org_nam,org_url,org_abb)\n",
    "                g4.add((org2_id,org.classification,cat2_id))\n",
    "                ##check if the name of org1 and name of org2 are same, if not--->add sugOrg tuples\n",
    "                #fetching name of org1\n",
    "#                 org1_nam=g4.value(org1_id,bhorg.hasName)\n",
    "#                 if org1_nam==org_nam: #check if its same\n",
    "#                     print(org1_nam,' not equal ',org_nam)\n",
    "#                     print(len(org1_nam),\":\",len(org_nam))\n",
    "#                     fetch_org_subOrg(org1_id,org2_id)\n",
    "    \n",
    "    if cat2== \"Local Body\":\n",
    "        org1_ls=org_scrub(org1)\n",
    "        org1_id=fetch_n_org(org1_ls[0])\n",
    "        #check and create org1 tuples\n",
    "        if (org1_id,org.classification,cat1_id) not in g4:\n",
    "            g4.add((org1_id,org.classification,cat1_id))\n",
    "        if(org1_id,org.classification,state_ut_nct_id) not in g4:\n",
    "            g4.add((org1_id,org.classification,state_ut_nct_id))\n",
    "        #check and create org3 tuples\n",
    "        org_nam=\"\"\n",
    "        org_url=\"\"\n",
    "        org_abb=\"\"\n",
    "        org3_ls=org_scrub(org3)\n",
    "        if (len(org3_ls))>0: \n",
    "            if len(org3_ls)==1:\n",
    "                org_nam=org3_ls[0]\n",
    "#             elif len(org3_ls)==2:\n",
    "#                 org_nam=org3_ls[0]\n",
    "#                 org_url=org3_ls[1]\n",
    "            elif len(org3_ls)==2:\n",
    "                org_nam=org3_ls[0]\n",
    "                if org1_ls[1].find('http')>-1:\n",
    "                    org_url=org3_ls[1]\n",
    "                else:\n",
    "                    org_abb=org3_ls[1]\n",
    "            else:\n",
    "                org_nam=org3_ls[0]\n",
    "                org_url=org3_ls[1]\n",
    "                org_abb=org3_ls[2]\n",
    "            org3_id=fetch_n_org(org_nam,org_url,org_abb)\n",
    "            g4.add((org3_id,org.classification,cat3_id))\n",
    "            fetch_org_subOrg(org1_id,org3_id)\n",
    "    \n",
    "    if cat2 in [\"State Apex Body\",\"State Department\"]:\n",
    "        org1_ls=org_scrub(org1)\n",
    "        org1_id=fetch_n_org(org1_ls[0])\n",
    "        #check and create org1 tuples\n",
    "        if (org1_id,org.classification,cat1_id) not in g4:\n",
    "            g4.add((org1_id,org.classification,cat1_id))\n",
    "        if(org1_id,org.classification,state_ut_nct_id) not in g4:\n",
    "            g4.add((org1_id,org.classification,state_ut_nct_id))\n",
    "        \n",
    "        if cat3_org2!=\"\":\n",
    "            org2_ls=org_scrub(cat3_org2)\n",
    "            org_nam=\"\"\n",
    "            org_url=\"\"\n",
    "            org_abb=\"\"\n",
    "            if (len(org2_ls))>0: \n",
    "                if len(org2_ls)==1:\n",
    "                    org_nam=org2_ls[0]\n",
    "                elif len(org2_ls)==2:\n",
    "                    org_nam=org2_ls[0]\n",
    "                    org_url=org2_ls[1]\n",
    "                else:\n",
    "                    org_nam=org2_ls[0]\n",
    "                    org_url=org2_ls[1]\n",
    "                    org_abb=org2_ls[2]\n",
    "                org2_id=fetch_n_org_cat3_org2(org_nam,org_url,org_abb,org1_id)\n",
    "                if(org2_id,org.classification,cat2_id) not in g4:\n",
    "                    g4.add((org2_id,org.classification,cat2_id))\n",
    "                fetch_org_subOrg(org1_id,org2_id)\n",
    "        if org3!=\"\":\n",
    "            org3_ls=org_scrub(org3)\n",
    "            if (len(org3_ls))>0: \n",
    "                if len(org3_ls)==1:\n",
    "                    org_nam=org3_ls[0]\n",
    "#                 elif len(org3_ls)==2:\n",
    "#                     org_nam=org3_ls[0]\n",
    "#                     org_url=org3_ls[1]\n",
    "                elif len(org3_ls)==2:\n",
    "                    org_nam=org3_ls[0]\n",
    "                    if org3_ls[1].find('http')>-1:\n",
    "                        org_url=org3_ls[1]\n",
    "                    else:\n",
    "                        org_abb=org3_ls[1]\n",
    "                else:\n",
    "                    org_nam=org3_ls[0]\n",
    "                    org_url=org3_ls[1]\n",
    "                    org_abb=org3_ls[2]\n",
    "                org3_id=fetch_n_org(org_nam,org_url,org_abb)\n",
    "                if (org3_id,org.classification,cat2_id) not in g4:\n",
    "                    g4.add((org3_id,org.classification,cat2_id))\n",
    "                fetch_org_subOrg(org2_id,org3_id)\n",
    "    if cat2 in [\"Board / Undertaking\",\"Attached & Subordinate Office\"]:\n",
    "        #check and create org1 tuples\n",
    "        org1_ls=org_scrub(org1)\n",
    "        org1_id=fetch_n_org(org1_ls[0])\n",
    "        if (org1_id,org.classification,cat1_id) not in g4:\n",
    "            g4.add((org1_id,org.classification,cat1_id))\n",
    "        if (org1_id,org.classification,state_ut_nct_id) not in g4:\n",
    "            g4.add((org1_id,org.classification,state_ut_nct_id))\n",
    "        if org3!=\"\":\n",
    "            org3_ls=org_scrub(org3)\n",
    "            org_nam=\"\"\n",
    "            org_url=\"\"\n",
    "            org_abb=\"\"\n",
    "            \n",
    "            if (len(org3_ls))>0: \n",
    "                if len(org3_ls)==1:\n",
    "                    org_nam=org3_ls[0]\n",
    "                elif len(org3_ls)==2:\n",
    "                    org_nam=org3_ls[0]\n",
    "                    if org3_ls[1].find('http')>-1:\n",
    "                        org_url=org3_ls[1]\n",
    "                    else:\n",
    "                        org_abb=org3_ls[1]\n",
    "                else:\n",
    "                    org_nam=org3_ls[0]\n",
    "                    org_url=org3_ls[1]\n",
    "                    org_abb=org3_ls[2]\n",
    "                org3_id=fetch_n_org(org_nam,org_url,org_abb)\n",
    "                if(org3_id,org.classification,cat3_id) not in g4:\n",
    "                    g4.add((org3_id,org.classification,cat3_id))\n",
    "                fetch_org_subOrg(org1_id,org3_id) "
   ]
  },
  {
   "cell_type": "code",
   "execution_count": 20,
   "metadata": {},
   "outputs": [
    {
     "name": "stdout",
     "output_type": "stream",
     "text": [
      "101439\n"
     ]
    }
   ],
   "source": [
    "print(len(g4))"
   ]
  },
  {
   "cell_type": "code",
   "execution_count": 21,
   "metadata": {},
   "outputs": [],
   "source": [
    "#Removing/Replacing tuples\n",
    "\n",
    "#Changing altName for UT, NCT, RLB, ULB\n",
    "for s,p,o in g4.triples((None,skos.altLabel,Literal(\"Union Territory\"))):\n",
    "    g4.add((s,skos.altLabel,Literal(\"UT\")))\n",
    "    g4.remove((s,skos.altLabel,Literal(\"Union Territory\")))\n",
    "for s,p,o in g4.triples((None,skos.altLabel,Literal(\"National Capital Territory\"))):\n",
    "    g4.add((s,skos.altLabel,Literal(\"NCT\")))\n",
    "    g4.remove((s,skos.altLabel,Literal(\"National Capital Territory\")))\n",
    "for s,p,o in g4.triples((None,skos.altLabel,Literal(\"Urban Local Body\"))):\n",
    "    g4.add((s,skos.altLabel,Literal(\"ULB\")))\n",
    "    g4.remove((s,skos.altLabel,Literal(\"Urban Local Body\")))\n",
    "for s,p,o in g4.triples((None,skos.altLabel,Literal(\"Rural Local Body\"))):\n",
    "    g4.add((s,skos.altLabel,Literal(\"RLB\")))\n",
    "    g4.remove((s,skos.altLabel,Literal(\"Rural Local Body\")))"
   ]
  },
  {
   "cell_type": "code",
   "execution_count": 22,
   "metadata": {},
   "outputs": [
    {
     "name": "stdout",
     "output_type": "stream",
     "text": [
      "http://semanticwebindia.in/bharathi/res/cat/234 http://www.w3.org/2004/02/skos/core#broaderOf http://semanticwebindia.in/bharathi/res/cat/237\n",
      "http://semanticwebindia.in/bharathi/res/cat/234 http://www.w3.org/2004/02/skos/core#broaderOf http://semanticwebindia.in/bharathi/res/cat/236\n",
      "http://semanticwebindia.in/bharathi/res/cat/234 http://www.w3.org/1999/02/22-rdf-syntax-ns#type http://www.w3.org/2004/02/skos/core#Concept\n",
      "http://semanticwebindia.in/bharathi/res/cat/234 http://www.w3.org/2004/02/skos/core#broaderOf http://semanticwebindia.in/bharathi/res/cat/240\n",
      "http://semanticwebindia.in/bharathi/res/cat/234 http://www.w3.org/2004/02/skos/core#altLabel ULB\n",
      "http://semanticwebindia.in/bharathi/res/cat/234 http://www.w3.org/2004/02/skos/core#prefLabel Urban Local Body\n",
      "http://semanticwebindia.in/bharathi/res/cat/234 http://www.w3.org/2004/02/skos/core#broader http://semanticwebindia.in/bharathi/res/cat/233\n",
      "http://semanticwebindia.in/bharathi/res/cat/234 http://www.w3.org/2004/02/skos/core#inScheme http://semanticwebindia.in/bharathi/res/cat/OrganisationType\n"
     ]
    }
   ],
   "source": [
    "for s,p,o in g4.triples((None,skos.altLabel,Literal(\"ULB\"))):\n",
    "    for s1,p1,o1 in g4.triples((s,None,None)):\n",
    "        print(s1,p1,o1)"
   ]
  },
  {
   "cell_type": "code",
   "execution_count": 23,
   "metadata": {},
   "outputs": [
    {
     "name": "stdout",
     "output_type": "stream",
     "text": [
      "http://semanticwebindia.in/bharathi/res/cat/238 http://www.w3.org/2004/02/skos/core#prefLabel Zilla/Taluk/ Village Panchayat\n",
      "http://semanticwebindia.in/bharathi/res/cat/238 http://www.w3.org/2004/02/skos/core#altLabel Zilla/Taluk/ Village Panchayat\n",
      "http://semanticwebindia.in/bharathi/res/cat/238 http://www.w3.org/2004/02/skos/core#prefLabel Zilla/Taluk/ Village Panchayat\n",
      "http://semanticwebindia.in/bharathi/res/cat/238 http://www.w3.org/2004/02/skos/core#inScheme http://semanticwebindia.in/bharathi/res/cat/OrganisationType\n",
      "http://semanticwebindia.in/bharathi/res/cat/238 http://www.w3.org/1999/02/22-rdf-syntax-ns#type http://www.w3.org/2004/02/skos/core#Concept\n",
      "http://semanticwebindia.in/bharathi/res/cat/238 http://www.w3.org/2004/02/skos/core#broader http://semanticwebindia.in/bharathi/res/cat/235\n"
     ]
    }
   ],
   "source": [
    "#Testing\n",
    "for s,p,o in g4.triples((None, skos.prefLabel,Literal(\"Zilla/Taluk/ Village Panchayat\"))):\n",
    "    print(s,p,o)\n",
    "    for s1,p1,o1 in g4.triples((s,None,None)):\n",
    "        print(s1,p1,o1)"
   ]
  },
  {
   "cell_type": "code",
   "execution_count": 24,
   "metadata": {},
   "outputs": [],
   "source": [
    "g4.serialize(format='nt', destination='C:/Users/SESA456791/Desktop/Ontology-Bh/Files/Outputs/Graph_stateUT_5.nt')"
   ]
  },
  {
   "cell_type": "code",
   "execution_count": 31,
   "metadata": {},
   "outputs": [
    {
     "name": "stdout",
     "output_type": "stream",
     "text": [
      "http://semanticwebindia.in/bharathi/res/org/18056 http://www.w3.org/ns/org#classification http://semanticwebindia.in/bharathi/res/cat/225\n",
      "http://semanticwebindia.in/bharathi/res/org/18056 http://www.w3.org/ns/org#classification http://semanticwebindia.in/bharathi/res/cat/223\n",
      "http://semanticwebindia.in/bharathi/res/org/18141 http://www.w3.org/ns/org#classification http://semanticwebindia.in/bharathi/res/cat/225\n",
      "http://semanticwebindia.in/bharathi/res/org/18141 http://www.w3.org/ns/org#classification http://semanticwebindia.in/bharathi/res/cat/230\n",
      "http://semanticwebindia.in/bharathi/res/org/18141 http://www.w3.org/ns/org#classification http://semanticwebindia.in/bharathi/res/cat/223\n"
     ]
    }
   ],
   "source": [
    "for s,p,o in g4.triples((None,bhorg.hasName,Literal(\"Puducherry\"))):\n",
    "    for s1,p1,o1 in g4.triples((s,org.classification,None)):\n",
    "        print(s1,p1,o1)\n",
    "    for s2,p2,o2 in g4.triples((s,org.subOrganizationOf,None)):\n",
    "        print(s2,p2,o2)"
   ]
  },
  {
   "cell_type": "code",
   "execution_count": 26,
   "metadata": {},
   "outputs": [
    {
     "name": "stdout",
     "output_type": "stream",
     "text": [
      "612\n"
     ]
    }
   ],
   "source": [
    "u=URIRef(\"http://semanticwebindia.in/bharathi/res/cat/224\")\n",
    "i=0\n",
    "for s,p,o in g4.triples((None,None,u)):\n",
    "    i+=1\n",
    "    #print(s,p,o)\n",
    "print(i)"
   ]
  },
  {
   "cell_type": "code",
   "execution_count": 27,
   "metadata": {},
   "outputs": [
    {
     "name": "stdout",
     "output_type": "stream",
     "text": [
      "http://semanticwebindia.in/bharathi/res/org/18140 http://www.w3.org/ns/org#classification http://semanticwebindia.in/bharathi/res/cat/230\n"
     ]
    }
   ],
   "source": [
    "for s,p,o in g4.triples((None,bhorg.hasName,Literal(\"Mahe\"))):\n",
    "    for s1,p1,o1 in g4.triples((s,org.classification,None)):\n",
    "        print(s1,p1,o1)"
   ]
  },
  {
   "cell_type": "code",
   "execution_count": 28,
   "metadata": {},
   "outputs": [
    {
     "name": "stdout",
     "output_type": "stream",
     "text": [
      "http://semanticwebindia.in/bharathi/res/cat/223 http://www.w3.org/2004/02/skos/core#altLabel State & Union Territory\n",
      "http://semanticwebindia.in/bharathi/res/cat/223 http://www.w3.org/2004/02/skos/core#prefLabel State & Union Territory\n"
     ]
    }
   ],
   "source": [
    "for s,p,o in g4.triples((None,None,Literal(\"State & Union Territory\"))):\n",
    "    print(s,p,o)"
   ]
  },
  {
   "cell_type": "code",
   "execution_count": 29,
   "metadata": {},
   "outputs": [
    {
     "name": "stdout",
     "output_type": "stream",
     "text": [
      "False\n",
      "<class 'rdflib.term.Literal'>\n"
     ]
    }
   ],
   "source": [
    "u=URIRef('http://semanticwebindia.in/bharathi/res/org/18114')\n",
    "val=g4.value(u,bhorg.hasName)\n",
    "print(val==Literal(\"Puducherry\"))\n",
    "print(type(val))"
   ]
  },
  {
   "cell_type": "code",
   "execution_count": 30,
   "metadata": {},
   "outputs": [
    {
     "data": {
      "text/plain": [
       "'State & Union Territory'"
      ]
     },
     "execution_count": 30,
     "metadata": {},
     "output_type": "execute_result"
    }
   ],
   "source": [
    "state_ut_data.iloc[0,0]"
   ]
  },
  {
   "cell_type": "code",
   "execution_count": null,
   "metadata": {},
   "outputs": [],
   "source": []
  }
 ],
 "metadata": {
  "kernelspec": {
   "display_name": "Python 3",
   "language": "python",
   "name": "python3"
  },
  "language_info": {
   "codemirror_mode": {
    "name": "ipython",
    "version": 3
   },
   "file_extension": ".py",
   "mimetype": "text/x-python",
   "name": "python",
   "nbconvert_exporter": "python",
   "pygments_lexer": "ipython3",
   "version": "3.7.3"
  }
 },
 "nbformat": 4,
 "nbformat_minor": 2
}
