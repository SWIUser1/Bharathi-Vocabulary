{
 "cells": [
  {
   "cell_type": "code",
   "execution_count": 1,
   "metadata": {},
   "outputs": [],
   "source": [
    "import pandas as pd\n",
    "import numpy as np\n",
    "import rdflib\n",
    "from rdflib.namespace import RDF\n",
    "from rdflib import Namespace\n",
    "from rdflib import URIRef, Literal"
   ]
  },
  {
   "cell_type": "code",
   "execution_count": 2,
   "metadata": {},
   "outputs": [
    {
     "name": "stdout",
     "output_type": "stream",
     "text": [
      "104476\n"
     ]
    }
   ],
   "source": [
    "global g9\n",
    "g9=rdflib.Graph()\n",
    "g9.parse('C:/Users/SESA456791/Desktop/Ontology-Bh/Files/Outputs/Graph_State_District_Code_8.nt',format='nt')\n",
    "print(len(g9))"
   ]
  },
  {
   "cell_type": "code",
   "execution_count": 3,
   "metadata": {},
   "outputs": [],
   "source": [
    "#************Change Path to files************\n",
    "judiciary_data=pd.read_csv(\"C:/Users/SESA456791/Desktop/Ontology-Bh/Files/judiciary_new.csv\",header=None) \n",
    "judiciary_data=judiciary_data.replace(np.nan,\"\",regex=True)"
   ]
  },
  {
   "cell_type": "code",
   "execution_count": 4,
   "metadata": {},
   "outputs": [
    {
     "data": {
      "text/html": [
       "<div>\n",
       "<style scoped>\n",
       "    .dataframe tbody tr th:only-of-type {\n",
       "        vertical-align: middle;\n",
       "    }\n",
       "\n",
       "    .dataframe tbody tr th {\n",
       "        vertical-align: top;\n",
       "    }\n",
       "\n",
       "    .dataframe thead th {\n",
       "        text-align: right;\n",
       "    }\n",
       "</style>\n",
       "<table border=\"1\" class=\"dataframe\">\n",
       "  <thead>\n",
       "    <tr style=\"text-align: right;\">\n",
       "      <th></th>\n",
       "      <th>Cat1</th>\n",
       "      <th>Cat2</th>\n",
       "      <th>Org1</th>\n",
       "      <th>Org2</th>\n",
       "    </tr>\n",
       "  </thead>\n",
       "  <tbody>\n",
       "    <tr>\n",
       "      <th>0</th>\n",
       "      <td>Judiciary</td>\n",
       "      <td>Supreme Court of India</td>\n",
       "      <td>['Case Status - pending and disposed cases by ...</td>\n",
       "      <td></td>\n",
       "    </tr>\n",
       "    <tr>\n",
       "      <th>1</th>\n",
       "      <td>Judiciary</td>\n",
       "      <td>Supreme Court of India</td>\n",
       "      <td>['Display Board Supreme Court of India' 'http:...</td>\n",
       "      <td></td>\n",
       "    </tr>\n",
       "    <tr>\n",
       "      <th>2</th>\n",
       "      <td>Judiciary</td>\n",
       "      <td>Supreme Court of India</td>\n",
       "      <td>['Indian Law Institute (ILI) Delhi' 'http://ww...</td>\n",
       "      <td></td>\n",
       "    </tr>\n",
       "    <tr>\n",
       "      <th>3</th>\n",
       "      <td>Judiciary</td>\n",
       "      <td>Supreme Court of India</td>\n",
       "      <td>['Supreme Court of India' 'http://supremecourt...</td>\n",
       "      <td>['Case Status and Daily Orders of Supreme Cour...</td>\n",
       "    </tr>\n",
       "    <tr>\n",
       "      <th>4</th>\n",
       "      <td>Judiciary</td>\n",
       "      <td>Supreme Court of India</td>\n",
       "      <td>['Supreme Court of India' 'http://supremecourt...</td>\n",
       "      <td>['Judgment Information system of Supreme Court...</td>\n",
       "    </tr>\n",
       "  </tbody>\n",
       "</table>\n",
       "</div>"
      ],
      "text/plain": [
       "        Cat1                    Cat2  \\\n",
       "0  Judiciary  Supreme Court of India   \n",
       "1  Judiciary  Supreme Court of India   \n",
       "2  Judiciary  Supreme Court of India   \n",
       "3  Judiciary  Supreme Court of India   \n",
       "4  Judiciary  Supreme Court of India   \n",
       "\n",
       "                                                Org1  \\\n",
       "0  ['Case Status - pending and disposed cases by ...   \n",
       "1  ['Display Board Supreme Court of India' 'http:...   \n",
       "2  ['Indian Law Institute (ILI) Delhi' 'http://ww...   \n",
       "3  ['Supreme Court of India' 'http://supremecourt...   \n",
       "4  ['Supreme Court of India' 'http://supremecourt...   \n",
       "\n",
       "                                                Org2  \n",
       "0                                                     \n",
       "1                                                     \n",
       "2                                                     \n",
       "3  ['Case Status and Daily Orders of Supreme Cour...  \n",
       "4  ['Judgment Information system of Supreme Court...  "
      ]
     },
     "execution_count": 4,
     "metadata": {},
     "output_type": "execute_result"
    }
   ],
   "source": [
    "judiciary_data.columns=['Cat1','Cat2','Org1','Org2']\n",
    "judiciary_data.head(5)"
   ]
  },
  {
   "cell_type": "code",
   "execution_count": 5,
   "metadata": {},
   "outputs": [],
   "source": [
    "#Function:Changing plural to singular\n",
    "def change_cat(col_nam,df):\n",
    "    singular_plural_data=pd.read_csv(\"C:/Users/SESA456791/Desktop/Ontology-Bh/Files/Singular_Plural.csv\") \n",
    "    for i in range(singular_plural_data.shape[0]):\n",
    "        val=singular_plural_data.iloc[i,0]\n",
    "        new_val=singular_plural_data.iloc[i,1]\n",
    "        df.loc[(df[col_nam]).apply(lambda x: x.strip())==val,col_nam]=new_val\n",
    "    return(df)"
   ]
  },
  {
   "cell_type": "code",
   "execution_count": 6,
   "metadata": {},
   "outputs": [],
   "source": [
    "#Function Call:Changing plural to singular\n",
    "judiciary_data=change_cat('Cat1',judiciary_data)\n",
    "judiciary_data=change_cat('Cat2',judiciary_data)"
   ]
  },
  {
   "cell_type": "code",
   "execution_count": 7,
   "metadata": {},
   "outputs": [],
   "source": [
    "global org\n",
    "global bhorg\n",
    "global skos\n",
    "global bhcatres\n",
    "global bhorgres\n",
    "\n",
    "org=Namespace(\"http://www.w3.org/ns/org#\")\n",
    "bhorg=Namespace(\"http://semanticwebindia.in/bharathi/ont/org/\")\n",
    "skos=Namespace(\"http://www.w3.org/2004/02/skos/core#\")\n",
    "bhcatres=Namespace(\"http://semanticwebindia.in/bharathi/res/cat/\")\n",
    "bhorgres=Namespace(\"http://semanticwebindia.in/bharathi/res/org/\")"
   ]
  },
  {
   "cell_type": "code",
   "execution_count": 8,
   "metadata": {},
   "outputs": [],
   "source": [
    "pd.set_option('display.max_colwidth', -1)#housekeeping"
   ]
  },
  {
   "cell_type": "code",
   "execution_count": 9,
   "metadata": {},
   "outputs": [],
   "source": [
    "#finding n_org max\n",
    "global n_org\n",
    "l_lit=[]\n",
    "for s,p,o in g9.triples((None, RDF.type, bhorg.Organisation)):\n",
    "    str_s_uri=str(s)\n",
    "    pos=str_s_uri.rfind('/')\n",
    "    num=int(str_s_uri[pos+1:len(str_s_uri)])\n",
    "    num_s=str(num)\n",
    "    num_s=num_s[1:]\n",
    "    num_i=int(num_s)\n",
    "    l_lit.append(num_i) #list of n_org identifier values\n",
    "#print(len(l_lit))\n",
    "l_lit.sort() #sorting the list\n",
    "n_org=l_lit[-1] #the current maximum value of n_org\n",
    "\n",
    "#finding n_cat max, \n",
    "global n_cat\n",
    "n_cat=0\n",
    "cat_list=[]\n",
    "for s,p,o in g9.triples((None, skos.prefLabel, None)):\n",
    "    str_s_uri=str(s)\n",
    "    pos=str_s_uri.rfind('/')\n",
    "    if str_s_uri[pos+1:len(str_s_uri)]!='topOT':\n",
    "        num=int(str_s_uri[pos+1:len(str_s_uri)])\n",
    "        num_s=str(num)\n",
    "        num_s=num_s[1:]\n",
    "        num_i=int(num_s)\n",
    "        cat_list.append(num_i) #list of n_org identifier values\n",
    "cat_list.sort() #sorting the list\n",
    "n_cat=cat_list[-1] #the current maximum value of n_org"
   ]
  },
  {
   "cell_type": "code",
   "execution_count": 10,
   "metadata": {},
   "outputs": [
    {
     "name": "stdout",
     "output_type": "stream",
     "text": [
      "47\n",
      "11102\n"
     ]
    }
   ],
   "source": [
    "print(n_cat)\n",
    "print(n_org)"
   ]
  },
  {
   "cell_type": "code",
   "execution_count": 11,
   "metadata": {},
   "outputs": [],
   "source": [
    "#create fetch function for cat_id\n",
    "def fetch_n_cat(cat):\n",
    "    global n_cat\n",
    "    global g9\n",
    "    cat_id=\"\"\n",
    "    for s,p,o in g9.triples((None, skos.prefLabel,Literal(cat))):\n",
    "        cat_id=s\n",
    "    if cat_id==\"\":\n",
    "        bhcatres=\"http://semanticwebindia.in/bharathi/res/cat/\"\n",
    "        n_cat+=1\n",
    "        cat_id=URIRef(bhcatres+str('2')+str(n_cat))\n",
    "        g9.add((cat_id,RDF.type,skos.Concept))\n",
    "        g9.add((cat_id,skos.prefLabel, Literal(cat)))\n",
    "        g9.add((cat_id,skos.altLabel, Literal(cat)))\n",
    "        g9.add((cat_id,skos.inScheme,URIRef(bhcatres+'OrganisationType')))\n",
    "    return(cat_id)\n",
    "\n",
    "#create fetch function for org_id\n",
    "def fetch_n_org(org_nam,org_url=\"\",org_abb=\"\"):\n",
    "    global g9\n",
    "    global n_org\n",
    "    org_id=\"\"\n",
    "    for s,p,o in g9.triples((None, bhorg.hasName,Literal(org_nam))):\n",
    "        org_id=s\n",
    "    if org_id==\"\":\n",
    "        bhorgres=\"http://semanticwebindia.in/bharathi/res/org/\"\n",
    "        n_org+=1\n",
    "        org_id=URIRef(bhorgres+str('1')+str(n_org))\n",
    "        g9.add((org_id, bhorg.hasName, Literal(org_nam)))\n",
    "        g9.add((org_id, bhorg.hasAlternateName, Literal(org_nam)))\n",
    "        if org_url!=\"\":\n",
    "            g9.add((org_id, bhorg.hasURL, Literal(org_url)))\n",
    "        if org_abb!=\"\":\n",
    "            g9.add((org_id, bhorg.hasAbbreviation, Literal(org_abb)))\n",
    "        g9.add((org_id,RDF.type,bhorg.Organisation))\n",
    "        g9.add((org_id,org.identifier,Literal(n_org)))\n",
    "        g9.add((org_id,org.hasOrganizationType,URIRef(bhcatres+str('21')))) #skos(Government) :bhcatres/21\n",
    "    return(org_id)"
   ]
  },
  {
   "cell_type": "code",
   "execution_count": 12,
   "metadata": {},
   "outputs": [],
   "source": [
    "#create fetch_cat_broader for broader relation\n",
    "def fetch_cat_broader(cat1_id,cat2_id):\n",
    "    global g9\n",
    "    if not (cat2_id, skos.broader,cat1_id) in g9:\n",
    "        g9.add((cat2_id, skos.broader,cat1_id))\n",
    "    if not (cat1_id, skos.broaderOf,cat2_id) in g9:\n",
    "        g9.add((cat1_id, skos.broaderOf,cat2_id))\n",
    "        \n",
    "#create fetch_org_subOrg for sub-organization relation\n",
    "def fetch_org_subOrg(org1_id,org2_id):\n",
    "    global g9\n",
    "    if not (org1_id,org.hasSubOrganization,org2_id) in g9:\n",
    "        g9.add((org1_id,org.hasSubOrganization,org2_id))\n",
    "    if not (org2_id,org.subOrganizationOf,org1_id) in g9:\n",
    "        g9.add((org2_id,org.subOrganizationOf,org1_id))"
   ]
  },
  {
   "cell_type": "code",
   "execution_count": 13,
   "metadata": {},
   "outputs": [],
   "source": [
    "def org_scrub(org_n):\n",
    "    l_scrub=[]\n",
    "    val=org_n\n",
    "    val=str(val)\n",
    "    val=val.replace('[',\"\")\n",
    "    val=val.replace(']',\"\")\n",
    "    if len(val)==0:\n",
    "        return(l_scrub)\n",
    "    #print(val)\n",
    "    pos_url=val.find('http')\n",
    "    #print(pos_url)\n",
    "    if pos_url!=-1:\n",
    "        val_1=val[:pos_url]+'|'+val[pos_url:]\n",
    "        pos_end_url=val_1[pos_url+1:].find(\"'\")\n",
    "        val_2=val_1[:pos_url+1+pos_end_url]+'|'+val_1[pos_url+1+pos_end_url:]\n",
    "    else:\n",
    "        sch_ch=val[0]\n",
    "        pos_end=val[1:].find(sch_ch)\n",
    "        #print(val[:pos_end+2])\n",
    "        val_2=val[:pos_end+2]+\"|\"+val[pos_end+2:]\n",
    "        #print(val_2)\n",
    "    org_ls=val_2.split('|')\n",
    "    \n",
    "    for i in range(len(org_ls)):\n",
    "        ele=org_ls[i]\n",
    "        ele_ls=list(ele)\n",
    "        clean_c=1\n",
    "        while clean_c>0 and len(ele_ls)>0:\n",
    "            if ele_ls[0] in [\"'\",'\"',',',' '] and len(ele_ls)>0:\n",
    "                ele_ls.pop(0)\n",
    "                #print(ele_ls)\n",
    "            if len(ele_ls)>0:\n",
    "                if ele_ls[0] in [\"'\",'\"',',',' ']:\n",
    "                    clean_c=1\n",
    "                else:\n",
    "                    clean_c=0\n",
    "            else:\n",
    "                clean_c=0\n",
    "        clean_c=1\n",
    "        while clean_c>0 and len(ele_ls)>0:\n",
    "            if ele_ls[-1] in [\"'\",'\"',',',' ']:\n",
    "                ele_ls.pop(-1)\n",
    "            if len(ele_ls)>0:\n",
    "                if ele_ls[-1] in [\"'\",'\"',',',' ']:\n",
    "                    clean_c=1\n",
    "                else:\n",
    "                    clean_c=0\n",
    "            else:\n",
    "                clean_c=0\n",
    "        ele_j=''.join(ele_ls)\n",
    "        l_scrub.append(ele_j)\n",
    "    return(l_scrub)"
   ]
  },
  {
   "cell_type": "code",
   "execution_count": 14,
   "metadata": {},
   "outputs": [],
   "source": [
    "#Iteration over legislature_data rows\n",
    "for i in range(judiciary_data.shape[0]):\n",
    "    \n",
    "    cat1=judiciary_data.iloc[i,0].strip()\n",
    "    cat2=judiciary_data.iloc[i,1].strip()\n",
    "    org1=judiciary_data.iloc[i,2]\n",
    "    org2=judiciary_data.iloc[i,3]\n",
    "        \n",
    "    #check if cat1_id already exists, else create\n",
    "    cat1_id=fetch_n_cat(cat1)\n",
    "    \n",
    "    #check if ((cat1 broader cat21)), ((cat21 broaderOf cat1)) exist, else create\n",
    "    cat_govt=URIRef(bhcatres+'21')\n",
    "    fetch_cat_broader(cat_govt,cat1_id)\n",
    "\n",
    "    #check if cat2_id already exists, else create\n",
    "    cat2_id=fetch_n_cat(cat2)\n",
    "    \n",
    "    #check if ((cat1 broader cat2)), ((cat2 broaderOf cat2)) exist, else create\n",
    "    fetch_cat_broader(cat1_id,cat2_id)\n",
    "    \n",
    "    #check if org1_id already exists, else create\n",
    "    ##clean and return list\n",
    "    org1_ls=org_scrub(org1)\n",
    "    if len(org1_ls)==1:\n",
    "        org_nam=org1_ls[0]\n",
    "#     elif len(org1_ls)==2:\n",
    "#         org_nam=org1_ls[0]\n",
    "#         org_url=org1_ls[1]\n",
    "    elif len(org1_ls)==2:\n",
    "        org_nam=org1_ls[0]\n",
    "        if org1_ls[1].find('http')>-1:\n",
    "            org_url=org1_ls[1]\n",
    "        else:\n",
    "            org_abb=org1_ls[1]\n",
    "    else:\n",
    "        org_nam=org1_ls[0]\n",
    "        org_url=org1_ls[1]\n",
    "        org_abb=org1_ls[2]\n",
    "        \n",
    "    org1_id=fetch_n_org(org_nam,org_url,org_abb)\n",
    "    \n",
    "    #create tuple org1, org:classification, cat2_id\n",
    "    g9.add((org1_id,org.classification,cat2_id)) \n",
    "    #check if org2_id already exists, else create\n",
    "    org2_ls=org_scrub(org2)\n",
    "    if (len(org2_ls))>0: \n",
    "        if len(org2_ls)==1:\n",
    "            org_nam=org2_ls[0]\n",
    "#         elif len(org2_ls)==2:\n",
    "#             org_nam=org2_ls[0]\n",
    "#             org_url=org2_ls[1]\n",
    "        elif len(org2_ls)==2:\n",
    "            org_nam=org2_ls[0]\n",
    "            if org2_ls[1].find('http')>-1:\n",
    "                org_url=org2_ls[1]\n",
    "            else:\n",
    "                org_abb=org2_ls[1]\n",
    "        else:\n",
    "            org_nam=org2_ls[0]\n",
    "            org_url=org2_ls[1]\n",
    "            org_abb=org2_ls[2]\n",
    "        org2_id=fetch_n_org(org_nam,org_url,org_abb)\n",
    "    #create tuples for org1-->subOrg-->org2\n",
    "        fetch_org_subOrg(org1_id,org2_id)\n",
    "    #create tuple org2, org:classificatoin, cat2_id\n",
    "#         g9.add((org2_id,org.classification,cat2_id))\n",
    "        "
   ]
  },
  {
   "cell_type": "code",
   "execution_count": 15,
   "metadata": {},
   "outputs": [
    {
     "name": "stdout",
     "output_type": "stream",
     "text": [
      "Cat1    Judiciary                                                                                                    \n",
      "Cat2    District Court                                                                                               \n",
      "Org1    ['Bongaigaon District Judiciary (District Court) Assam' 'http://bongaigaonjudiciary.gov.in' 'District Court']\n",
      "Org2                                                                                                                 \n",
      "Name: 71, dtype: object\n"
     ]
    }
   ],
   "source": [
    "print(judiciary_data.iloc[71,:])"
   ]
  },
  {
   "cell_type": "code",
   "execution_count": 16,
   "metadata": {},
   "outputs": [],
   "source": [
    "for j in range(judiciary_data.shape[0]): #judiciary_data.shape[0]\n",
    "#     print(j)\n",
    "    cat2=judiciary_data.iloc[j,1].strip()\n",
    "    org2=judiciary_data.iloc[j,3]\n",
    "    org2_ls=org_scrub(org2)\n",
    "    if (len(org2_ls))>0: \n",
    "        if len(org2_ls)==1:\n",
    "            org_nam=org2_ls[0]\n",
    "        elif len(org2_ls)==2:\n",
    "            org_nam=org2_ls[0]\n",
    "        else:\n",
    "            org_nam=org2_ls[0]\n",
    "            \n",
    "#     print(cat2,org2,org_nam) # \n",
    "    cat2_id=\"\"\n",
    "    for s,p,o in g9.triples((None,bhorg.hasName,Literal(org_nam))):\n",
    "#         print(s,p,o)\n",
    "        for s1,p1,o1 in g9.triples((s,org.classification,None)):\n",
    "            cat2_id=o1\n",
    "        if cat2_id==\"\":\n",
    "            cat2_id=fetch_n_cat(cat2)\n",
    "#             print(cat2_id)\n",
    "            g9.add((s,org.classification,cat2_id))"
   ]
  },
  {
   "cell_type": "code",
   "execution_count": 17,
   "metadata": {},
   "outputs": [
    {
     "data": {
      "text/plain": [
       "105784"
      ]
     },
     "execution_count": 17,
     "metadata": {},
     "output_type": "execute_result"
    }
   ],
   "source": [
    "len(g9)"
   ]
  },
  {
   "cell_type": "code",
   "execution_count": 18,
   "metadata": {},
   "outputs": [],
   "source": [
    "g9.serialize(format='nt', destination='C:/Users/SESA456791/Desktop/Ontology-Bh/Files/Outputs/Graph_Judiciary_9.nt')"
   ]
  },
  {
   "cell_type": "code",
   "execution_count": 19,
   "metadata": {},
   "outputs": [
    {
     "name": "stdout",
     "output_type": "stream",
     "text": [
      "http://semanticwebindia.in/bharathi/res/org/111113 http://semanticwebindia.in/bharathi/ont/org/hasName District and Subordinate Judiciary of Southgoa\n",
      "http://semanticwebindia.in/bharathi/res/org/111113 http://www.w3.org/ns/org#classification http://semanticwebindia.in/bharathi/res/cat/251\n",
      "http://semanticwebindia.in/bharathi/res/cat/251 http://www.w3.org/2004/02/skos/core#prefLabel District Court\n"
     ]
    }
   ],
   "source": [
    "u=Literal(\"District and Subordinate Judiciary of Southgoa\")\n",
    "for s,p,o in g9.triples((None,bhorg.hasName,u)):\n",
    "    print(s,p,o)\n",
    "    for s1,p1,o1 in g9.triples((s,org.classification,None)):\n",
    "        print(s1,p1,o1)\n",
    "        for s2,p2,o2 in g9.triples((o1,skos.prefLabel,None)):\n",
    "            print(s2,p2,o2)"
   ]
  },
  {
   "cell_type": "code",
   "execution_count": 20,
   "metadata": {},
   "outputs": [
    {
     "name": "stdout",
     "output_type": "stream",
     "text": [
      "http://semanticwebindia.in/bharathi/res/org/111112 http://semanticwebindia.in/bharathi/ont/org/hasName Bombay High Court\n"
     ]
    }
   ],
   "source": [
    "u=Literal(\"District and Subordinate Judiciary of Southgoa\")\n",
    "for s,p,o in g9.triples((None,bhorg.hasName,u)):\n",
    "    for s1,p1,o1 in g9.triples((s,org.subOrganizationOf,None)):\n",
    "        for s2,p2,o2 in g9.triples((o1,bhorg.hasName,None)):\n",
    "            print(s2,p2,o2)"
   ]
  },
  {
   "cell_type": "code",
   "execution_count": null,
   "metadata": {},
   "outputs": [],
   "source": []
  }
 ],
 "metadata": {
  "kernelspec": {
   "display_name": "Python 3",
   "language": "python",
   "name": "python3"
  },
  "language_info": {
   "codemirror_mode": {
    "name": "ipython",
    "version": 3
   },
   "file_extension": ".py",
   "mimetype": "text/x-python",
   "name": "python",
   "nbconvert_exporter": "python",
   "pygments_lexer": "ipython3",
   "version": "3.7.3"
  }
 },
 "nbformat": 4,
 "nbformat_minor": 4
}
